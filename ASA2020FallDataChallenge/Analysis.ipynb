{
 "cells": [
  {
   "cell_type": "code",
   "execution_count": 1,
   "metadata": {},
   "outputs": [],
   "source": [
    "import numpy as np\n",
    "# from datascience import *\n",
    "\n",
    "%matplotlib inline\n",
    "import matplotlib.pyplot as plots\n",
    "plots.style.use('fivethirtyeight')\n",
    "import warnings\n",
    "warnings.simplefilter('ignore', FutureWarning)\n",
    "\n",
    "import pandas as pd"
   ]
  },
  {
   "cell_type": "code",
   "execution_count": 2,
   "metadata": {},
   "outputs": [
    {
     "data": {
      "text/html": [
       "<div>\n",
       "<style scoped>\n",
       "    .dataframe tbody tr th:only-of-type {\n",
       "        vertical-align: middle;\n",
       "    }\n",
       "\n",
       "    .dataframe tbody tr th {\n",
       "        vertical-align: top;\n",
       "    }\n",
       "\n",
       "    .dataframe thead th {\n",
       "        text-align: right;\n",
       "    }\n",
       "</style>\n",
       "<table border=\"1\" class=\"dataframe\">\n",
       "  <thead>\n",
       "    <tr style=\"text-align: right;\">\n",
       "      <th></th>\n",
       "      <th>YEAR</th>\n",
       "      <th>STATEFIP</th>\n",
       "      <th>METRO</th>\n",
       "      <th>AGE</th>\n",
       "      <th>SEX</th>\n",
       "      <th>RACE</th>\n",
       "      <th>MARST</th>\n",
       "      <th>VETSTAT</th>\n",
       "      <th>CITIZEN</th>\n",
       "      <th>HISPAN</th>\n",
       "      <th>...</th>\n",
       "      <th>VOTEHOW</th>\n",
       "      <th>VOTEWHEN</th>\n",
       "      <th>VOREGHOW</th>\n",
       "      <th>VOTED</th>\n",
       "      <th>VOREG</th>\n",
       "      <th>VOSUPPWT</th>\n",
       "      <th>MARRSIMPLE</th>\n",
       "      <th>RACESIMPLE</th>\n",
       "      <th>HISPSIMPLE</th>\n",
       "      <th>EDUSIMPLE</th>\n",
       "    </tr>\n",
       "  </thead>\n",
       "  <tbody>\n",
       "    <tr>\n",
       "      <th>0</th>\n",
       "      <td>2018</td>\n",
       "      <td>1</td>\n",
       "      <td>2</td>\n",
       "      <td>48</td>\n",
       "      <td>2</td>\n",
       "      <td>200</td>\n",
       "      <td>4</td>\n",
       "      <td>1</td>\n",
       "      <td>1</td>\n",
       "      <td>0</td>\n",
       "      <td>...</td>\n",
       "      <td>1</td>\n",
       "      <td>1</td>\n",
       "      <td>5</td>\n",
       "      <td>2</td>\n",
       "      <td>99</td>\n",
       "      <td>1957.3134</td>\n",
       "      <td>2</td>\n",
       "      <td>2</td>\n",
       "      <td>0</td>\n",
       "      <td>2</td>\n",
       "    </tr>\n",
       "    <tr>\n",
       "      <th>1</th>\n",
       "      <td>2018</td>\n",
       "      <td>1</td>\n",
       "      <td>2</td>\n",
       "      <td>53</td>\n",
       "      <td>2</td>\n",
       "      <td>200</td>\n",
       "      <td>4</td>\n",
       "      <td>1</td>\n",
       "      <td>1</td>\n",
       "      <td>0</td>\n",
       "      <td>...</td>\n",
       "      <td>1</td>\n",
       "      <td>1</td>\n",
       "      <td>3</td>\n",
       "      <td>2</td>\n",
       "      <td>99</td>\n",
       "      <td>1687.7836</td>\n",
       "      <td>2</td>\n",
       "      <td>2</td>\n",
       "      <td>0</td>\n",
       "      <td>3</td>\n",
       "    </tr>\n",
       "    <tr>\n",
       "      <th>2</th>\n",
       "      <td>2018</td>\n",
       "      <td>1</td>\n",
       "      <td>2</td>\n",
       "      <td>20</td>\n",
       "      <td>2</td>\n",
       "      <td>200</td>\n",
       "      <td>6</td>\n",
       "      <td>1</td>\n",
       "      <td>1</td>\n",
       "      <td>0</td>\n",
       "      <td>...</td>\n",
       "      <td>1</td>\n",
       "      <td>1</td>\n",
       "      <td>3</td>\n",
       "      <td>2</td>\n",
       "      <td>99</td>\n",
       "      <td>2678.8328</td>\n",
       "      <td>3</td>\n",
       "      <td>2</td>\n",
       "      <td>0</td>\n",
       "      <td>3</td>\n",
       "    </tr>\n",
       "    <tr>\n",
       "      <th>3</th>\n",
       "      <td>2018</td>\n",
       "      <td>1</td>\n",
       "      <td>2</td>\n",
       "      <td>61</td>\n",
       "      <td>1</td>\n",
       "      <td>200</td>\n",
       "      <td>1</td>\n",
       "      <td>2</td>\n",
       "      <td>1</td>\n",
       "      <td>0</td>\n",
       "      <td>...</td>\n",
       "      <td>1</td>\n",
       "      <td>1</td>\n",
       "      <td>5</td>\n",
       "      <td>2</td>\n",
       "      <td>99</td>\n",
       "      <td>1753.9945</td>\n",
       "      <td>1</td>\n",
       "      <td>2</td>\n",
       "      <td>0</td>\n",
       "      <td>3</td>\n",
       "    </tr>\n",
       "    <tr>\n",
       "      <th>4</th>\n",
       "      <td>2018</td>\n",
       "      <td>1</td>\n",
       "      <td>2</td>\n",
       "      <td>62</td>\n",
       "      <td>2</td>\n",
       "      <td>200</td>\n",
       "      <td>1</td>\n",
       "      <td>1</td>\n",
       "      <td>1</td>\n",
       "      <td>0</td>\n",
       "      <td>...</td>\n",
       "      <td>1</td>\n",
       "      <td>1</td>\n",
       "      <td>97</td>\n",
       "      <td>2</td>\n",
       "      <td>99</td>\n",
       "      <td>1778.5886</td>\n",
       "      <td>1</td>\n",
       "      <td>2</td>\n",
       "      <td>0</td>\n",
       "      <td>3</td>\n",
       "    </tr>\n",
       "    <tr>\n",
       "      <th>...</th>\n",
       "      <td>...</td>\n",
       "      <td>...</td>\n",
       "      <td>...</td>\n",
       "      <td>...</td>\n",
       "      <td>...</td>\n",
       "      <td>...</td>\n",
       "      <td>...</td>\n",
       "      <td>...</td>\n",
       "      <td>...</td>\n",
       "      <td>...</td>\n",
       "      <td>...</td>\n",
       "      <td>...</td>\n",
       "      <td>...</td>\n",
       "      <td>...</td>\n",
       "      <td>...</td>\n",
       "      <td>...</td>\n",
       "      <td>...</td>\n",
       "      <td>...</td>\n",
       "      <td>...</td>\n",
       "      <td>...</td>\n",
       "      <td>...</td>\n",
       "    </tr>\n",
       "    <tr>\n",
       "      <th>72999</th>\n",
       "      <td>2018</td>\n",
       "      <td>56</td>\n",
       "      <td>4</td>\n",
       "      <td>69</td>\n",
       "      <td>1</td>\n",
       "      <td>100</td>\n",
       "      <td>1</td>\n",
       "      <td>2</td>\n",
       "      <td>1</td>\n",
       "      <td>0</td>\n",
       "      <td>...</td>\n",
       "      <td>1</td>\n",
       "      <td>1</td>\n",
       "      <td>97</td>\n",
       "      <td>2</td>\n",
       "      <td>99</td>\n",
       "      <td>256.5947</td>\n",
       "      <td>1</td>\n",
       "      <td>1</td>\n",
       "      <td>0</td>\n",
       "      <td>4</td>\n",
       "    </tr>\n",
       "    <tr>\n",
       "      <th>73000</th>\n",
       "      <td>2018</td>\n",
       "      <td>56</td>\n",
       "      <td>4</td>\n",
       "      <td>60</td>\n",
       "      <td>2</td>\n",
       "      <td>100</td>\n",
       "      <td>1</td>\n",
       "      <td>1</td>\n",
       "      <td>1</td>\n",
       "      <td>0</td>\n",
       "      <td>...</td>\n",
       "      <td>1</td>\n",
       "      <td>1</td>\n",
       "      <td>97</td>\n",
       "      <td>2</td>\n",
       "      <td>99</td>\n",
       "      <td>226.8820</td>\n",
       "      <td>1</td>\n",
       "      <td>1</td>\n",
       "      <td>0</td>\n",
       "      <td>5</td>\n",
       "    </tr>\n",
       "    <tr>\n",
       "      <th>73001</th>\n",
       "      <td>2018</td>\n",
       "      <td>56</td>\n",
       "      <td>4</td>\n",
       "      <td>30</td>\n",
       "      <td>1</td>\n",
       "      <td>100</td>\n",
       "      <td>6</td>\n",
       "      <td>1</td>\n",
       "      <td>1</td>\n",
       "      <td>0</td>\n",
       "      <td>...</td>\n",
       "      <td>1</td>\n",
       "      <td>1</td>\n",
       "      <td>97</td>\n",
       "      <td>2</td>\n",
       "      <td>99</td>\n",
       "      <td>313.3757</td>\n",
       "      <td>3</td>\n",
       "      <td>1</td>\n",
       "      <td>0</td>\n",
       "      <td>6</td>\n",
       "    </tr>\n",
       "    <tr>\n",
       "      <th>73002</th>\n",
       "      <td>2018</td>\n",
       "      <td>56</td>\n",
       "      <td>4</td>\n",
       "      <td>56</td>\n",
       "      <td>1</td>\n",
       "      <td>100</td>\n",
       "      <td>6</td>\n",
       "      <td>2</td>\n",
       "      <td>1</td>\n",
       "      <td>0</td>\n",
       "      <td>...</td>\n",
       "      <td>1</td>\n",
       "      <td>2</td>\n",
       "      <td>7</td>\n",
       "      <td>2</td>\n",
       "      <td>99</td>\n",
       "      <td>265.6089</td>\n",
       "      <td>3</td>\n",
       "      <td>1</td>\n",
       "      <td>0</td>\n",
       "      <td>4</td>\n",
       "    </tr>\n",
       "    <tr>\n",
       "      <th>73003</th>\n",
       "      <td>2018</td>\n",
       "      <td>56</td>\n",
       "      <td>4</td>\n",
       "      <td>72</td>\n",
       "      <td>2</td>\n",
       "      <td>100</td>\n",
       "      <td>5</td>\n",
       "      <td>1</td>\n",
       "      <td>1</td>\n",
       "      <td>0</td>\n",
       "      <td>...</td>\n",
       "      <td>1</td>\n",
       "      <td>1</td>\n",
       "      <td>1</td>\n",
       "      <td>2</td>\n",
       "      <td>99</td>\n",
       "      <td>277.1607</td>\n",
       "      <td>2</td>\n",
       "      <td>1</td>\n",
       "      <td>0</td>\n",
       "      <td>2</td>\n",
       "    </tr>\n",
       "  </tbody>\n",
       "</table>\n",
       "<p>73004 rows × 28 columns</p>\n",
       "</div>"
      ],
      "text/plain": [
       "       YEAR  STATEFIP  METRO  AGE  SEX  RACE  MARST  VETSTAT  CITIZEN  HISPAN  \\\n",
       "0      2018         1      2   48    2   200      4        1        1       0   \n",
       "1      2018         1      2   53    2   200      4        1        1       0   \n",
       "2      2018         1      2   20    2   200      6        1        1       0   \n",
       "3      2018         1      2   61    1   200      1        2        1       0   \n",
       "4      2018         1      2   62    2   200      1        1        1       0   \n",
       "...     ...       ...    ...  ...  ...   ...    ...      ...      ...     ...   \n",
       "72999  2018        56      4   69    1   100      1        2        1       0   \n",
       "73000  2018        56      4   60    2   100      1        1        1       0   \n",
       "73001  2018        56      4   30    1   100      6        1        1       0   \n",
       "73002  2018        56      4   56    1   100      6        2        1       0   \n",
       "73003  2018        56      4   72    2   100      5        1        1       0   \n",
       "\n",
       "       ...  VOTEHOW  VOTEWHEN  VOREGHOW  VOTED  VOREG   VOSUPPWT  MARRSIMPLE  \\\n",
       "0      ...        1         1         5      2     99  1957.3134           2   \n",
       "1      ...        1         1         3      2     99  1687.7836           2   \n",
       "2      ...        1         1         3      2     99  2678.8328           3   \n",
       "3      ...        1         1         5      2     99  1753.9945           1   \n",
       "4      ...        1         1        97      2     99  1778.5886           1   \n",
       "...    ...      ...       ...       ...    ...    ...        ...         ...   \n",
       "72999  ...        1         1        97      2     99   256.5947           1   \n",
       "73000  ...        1         1        97      2     99   226.8820           1   \n",
       "73001  ...        1         1        97      2     99   313.3757           3   \n",
       "73002  ...        1         2         7      2     99   265.6089           3   \n",
       "73003  ...        1         1         1      2     99   277.1607           2   \n",
       "\n",
       "       RACESIMPLE  HISPSIMPLE  EDUSIMPLE  \n",
       "0               2           0          2  \n",
       "1               2           0          3  \n",
       "2               2           0          3  \n",
       "3               2           0          3  \n",
       "4               2           0          3  \n",
       "...           ...         ...        ...  \n",
       "72999           1           0          4  \n",
       "73000           1           0          5  \n",
       "73001           1           0          6  \n",
       "73002           1           0          4  \n",
       "73003           1           0          2  \n",
       "\n",
       "[73004 rows x 28 columns]"
      ]
     },
     "execution_count": 2,
     "metadata": {},
     "output_type": "execute_result"
    }
   ],
   "source": [
    "df = pd.read_csv('http://www.stat.uchicago.edu/~nicolae/118/data_2018.csv')\n",
    "df"
   ]
  },
  {
   "cell_type": "code",
   "execution_count": 3,
   "metadata": {},
   "outputs": [],
   "source": [
    "df[\"Age Band\"] = pd.cut(df[\"AGE\"], 5, labels=[\"18-32\", \"32-44\", \"44-58\", \"58-72\", \"72-85\"]) #CREATE AGE BAND FEATURE"
   ]
  },
  {
   "cell_type": "code",
   "execution_count": 4,
   "metadata": {},
   "outputs": [],
   "source": [
    "df[\"NEWRACE\"] = df[\"RACE\"] #CREATE NEW RACE FEATURE AS STRINGS RATHER THAN INTS\n",
    "df[\"NEWRACE\"] = df[\"NEWRACE\"].replace([100], \"White\")\n",
    "df[\"NEWRACE\"] = df[\"NEWRACE\"].replace([200], \"Black\")\n",
    "df[\"NEWRACE\"] = df[\"NEWRACE\"].replace([651, 652], \"Asian or Pacific Islander\")\n",
    "df[\"NEWRACE\"] = df[\"NEWRACE\"].replace([300], \"Native American\")\n",
    "df[\"NEWRACE\"] = df[\"NEWRACE\"].replace([801, 802, 803, 804, 805, 806, 807, 808, 809, 810, 811, 812, 813, 814, 815, 816, 817, 818, 819, 820, 830], \"More than one race\")"
   ]
  },
  {
   "cell_type": "code",
   "execution_count": 5,
   "metadata": {},
   "outputs": [],
   "source": [
    "#CREATE STATE FEATURE THAT HAS STRINGS INSTEAD OF INTS FOR STATES"
   ]
  },
  {
   "cell_type": "code",
   "execution_count": 6,
   "metadata": {},
   "outputs": [],
   "source": [
    "df[\"STATE\"] = df[\"STATEFIP\"]"
   ]
  },
  {
   "cell_type": "code",
   "execution_count": 7,
   "metadata": {},
   "outputs": [],
   "source": [
    "states = {1: \"Alabama\", 2: \"Alaska\", 4: \"Arizona\", 5: \"Arkansas\", 6: \"California\", 8: \"Colorado\", 9: \"Connecticut\", 10: \"Delaware\", 11: \"District of Columbia\", 12: \"Florida\", 13: \"Georgia\", 15: \"Hawaii\", 16: \"Idaho\", 17: \"Illinois\", 18: \"Indiana\", 19: \"Iowa\", 20: \"Kansas\", 21: \"Kentucky\", 22: \"Lousiana\", 23: \"Maine\", 24: \"Maryland\", 25: \"Massachusetts\", 26: \"Michigan\", 27: \"Minnesota\", 28: \"Missisippi\", 29: \"Missouri\", 30: \"Montana\", 31: \"Nebraska\", 32: \"Nevada\", 33: \"New Hampshire\", 34: \"New Jersey\", 35: \"New Mexico\", 36: \"New York\", 37: \"North Carolina\", 38: \"North Dakota\", 39: \"Ohio\", 40: \"Oklahoma\", 41: \"Oregon\", 42: \"Pennsylvania\", 44: \"Rhode Island\", 45: \"South Carolina\", 46: \"South Dakota\", 47: \"Tennessee\", 48: \"Texas\", 49: \"Utah\", 50: \"Vermont\", 51: \"Virgina\", 53: \"Washington\", 54: \"West Virginia\", 55: \"Wisconsin\", 56: \"Wyoming\"}"
   ]
  },
  {
   "cell_type": "code",
   "execution_count": 8,
   "metadata": {},
   "outputs": [],
   "source": [
    "for i in range(1, 57):\n",
    "    if i in states: \n",
    "        df[\"STATE\"].replace([i], states[i], inplace=True)"
   ]
  },
  {
   "cell_type": "code",
   "execution_count": 9,
   "metadata": {},
   "outputs": [],
   "source": [
    "rvdf = df[df[\"VOREGHOW\"] < 10] #CREATE DATAFRAME WITH ONLY INDIVIDUALS THAT REGISTERED TO VOTEa"
   ]
  },
  {
   "cell_type": "code",
   "execution_count": 10,
   "metadata": {},
   "outputs": [],
   "source": [
    "nrvdf = df[df[\"VOYNOTREG\"] != 99] #CREATE DATAFRAME WITH ONLY INDIVIDUALS THAT DID NOT REGISTER TO VOTE"
   ]
  },
  {
   "cell_type": "code",
   "execution_count": 11,
   "metadata": {},
   "outputs": [],
   "source": [
    "nvdf = df[df[\"VOWHYNOT\"] < 96] #CREATE DATAFRAME WITH ONLY INDIVIDUALS THAT DID NOT VOTE"
   ]
  },
  {
   "cell_type": "markdown",
   "metadata": {},
   "source": [
    "# Part A: Voter Registration Analysis"
   ]
  },
  {
   "cell_type": "markdown",
   "metadata": {},
   "source": [
    "## VOREG"
   ]
  },
  {
   "cell_type": "code",
   "execution_count": 12,
   "metadata": {},
   "outputs": [
    {
     "data": {
      "text/plain": [
       "99    48337\n",
       "1     12049\n",
       "2     11423\n",
       "97     1080\n",
       "96       70\n",
       "98       45\n",
       "Name: VOREG, dtype: int64"
      ]
     },
     "execution_count": 12,
     "metadata": {},
     "output_type": "execute_result"
    }
   ],
   "source": [
    "df[\"VOREG\"].value_counts()"
   ]
  },
  {
   "cell_type": "code",
   "execution_count": 13,
   "metadata": {},
   "outputs": [],
   "source": [
    "vrdf = df"
   ]
  },
  {
   "cell_type": "code",
   "execution_count": 14,
   "metadata": {},
   "outputs": [
    {
     "data": {
      "text/plain": [
       "1    59760\n",
       "0    13244\n",
       "Name: VOREG, dtype: int64"
      ]
     },
     "execution_count": 14,
     "metadata": {},
     "output_type": "execute_result"
    }
   ],
   "source": [
    "vrdf[\"VOREG\"].replace([1], 0, inplace=True)\n",
    "vrdf[\"VOREG\"].replace([99, 2], 1, inplace=True)\n",
    "vrdf[\"VOREG\"].replace([96, 97, 98], 0, inplace=True)\n",
    "vrdf[\"VOREG\"].value_counts()"
   ]
  },
  {
   "cell_type": "code",
   "execution_count": 27,
   "metadata": {},
   "outputs": [
    {
     "data": {
      "text/html": [
       "<div>\n",
       "<style scoped>\n",
       "    .dataframe tbody tr th:only-of-type {\n",
       "        vertical-align: middle;\n",
       "    }\n",
       "\n",
       "    .dataframe tbody tr th {\n",
       "        vertical-align: top;\n",
       "    }\n",
       "\n",
       "    .dataframe thead th {\n",
       "        text-align: right;\n",
       "    }\n",
       "</style>\n",
       "<table border=\"1\" class=\"dataframe\">\n",
       "  <thead>\n",
       "    <tr style=\"text-align: right;\">\n",
       "      <th></th>\n",
       "      <th>VOREG</th>\n",
       "    </tr>\n",
       "    <tr>\n",
       "      <th>Age Band</th>\n",
       "      <th></th>\n",
       "    </tr>\n",
       "  </thead>\n",
       "  <tbody>\n",
       "    <tr>\n",
       "      <th>18-32</th>\n",
       "      <td>0.677636</td>\n",
       "    </tr>\n",
       "    <tr>\n",
       "      <th>32-44</th>\n",
       "      <td>0.805497</td>\n",
       "    </tr>\n",
       "    <tr>\n",
       "      <th>44-58</th>\n",
       "      <td>0.846586</td>\n",
       "    </tr>\n",
       "    <tr>\n",
       "      <th>58-72</th>\n",
       "      <td>0.881788</td>\n",
       "    </tr>\n",
       "    <tr>\n",
       "      <th>72-85</th>\n",
       "      <td>0.884964</td>\n",
       "    </tr>\n",
       "  </tbody>\n",
       "</table>\n",
       "</div>"
      ],
      "text/plain": [
       "             VOREG\n",
       "Age Band          \n",
       "18-32     0.677636\n",
       "32-44     0.805497\n",
       "44-58     0.846586\n",
       "58-72     0.881788\n",
       "72-85     0.884964"
      ]
     },
     "execution_count": 27,
     "metadata": {},
     "output_type": "execute_result"
    }
   ],
   "source": [
    "voRegAge = vrdf[[\"VOREG\", \"Age Band\"]].groupby(\"Age Band\").mean()\n",
    "voRegAge"
   ]
  },
  {
   "cell_type": "markdown",
   "metadata": {},
   "source": [
    "As the age increased, so did voter registration rates."
   ]
  },
  {
   "cell_type": "code",
   "execution_count": 16,
   "metadata": {},
   "outputs": [
    {
     "data": {
      "text/html": [
       "<div>\n",
       "<style scoped>\n",
       "    .dataframe tbody tr th:only-of-type {\n",
       "        vertical-align: middle;\n",
       "    }\n",
       "\n",
       "    .dataframe tbody tr th {\n",
       "        vertical-align: top;\n",
       "    }\n",
       "\n",
       "    .dataframe thead th {\n",
       "        text-align: right;\n",
       "    }\n",
       "</style>\n",
       "<table border=\"1\" class=\"dataframe\">\n",
       "  <thead>\n",
       "    <tr style=\"text-align: right;\">\n",
       "      <th></th>\n",
       "      <th>VOREG</th>\n",
       "    </tr>\n",
       "    <tr>\n",
       "      <th>SEX</th>\n",
       "      <th></th>\n",
       "    </tr>\n",
       "  </thead>\n",
       "  <tbody>\n",
       "    <tr>\n",
       "      <th>1</th>\n",
       "      <td>0.804441</td>\n",
       "    </tr>\n",
       "    <tr>\n",
       "      <th>2</th>\n",
       "      <td>0.831288</td>\n",
       "    </tr>\n",
       "  </tbody>\n",
       "</table>\n",
       "</div>"
      ],
      "text/plain": [
       "        VOREG\n",
       "SEX          \n",
       "1    0.804441\n",
       "2    0.831288"
      ]
     },
     "execution_count": 16,
     "metadata": {},
     "output_type": "execute_result"
    }
   ],
   "source": [
    "voRegSex = vrdf[[\"VOREG\", \"SEX\"]].groupby(\"SEX\").mean()\n",
    "voRegSex"
   ]
  },
  {
   "cell_type": "markdown",
   "metadata": {},
   "source": [
    "Females were slightly more likely to register to vote than males"
   ]
  },
  {
   "cell_type": "code",
   "execution_count": 17,
   "metadata": {},
   "outputs": [
    {
     "data": {
      "text/html": [
       "<div>\n",
       "<style scoped>\n",
       "    .dataframe tbody tr th:only-of-type {\n",
       "        vertical-align: middle;\n",
       "    }\n",
       "\n",
       "    .dataframe tbody tr th {\n",
       "        vertical-align: top;\n",
       "    }\n",
       "\n",
       "    .dataframe thead th {\n",
       "        text-align: right;\n",
       "    }\n",
       "</style>\n",
       "<table border=\"1\" class=\"dataframe\">\n",
       "  <thead>\n",
       "    <tr style=\"text-align: right;\">\n",
       "      <th></th>\n",
       "      <th>VOREG</th>\n",
       "    </tr>\n",
       "    <tr>\n",
       "      <th>NEWRACE</th>\n",
       "      <th></th>\n",
       "    </tr>\n",
       "  </thead>\n",
       "  <tbody>\n",
       "    <tr>\n",
       "      <th>Asian or Pacific Islander</th>\n",
       "      <td>0.704353</td>\n",
       "    </tr>\n",
       "    <tr>\n",
       "      <th>Black</th>\n",
       "      <td>0.833286</td>\n",
       "    </tr>\n",
       "    <tr>\n",
       "      <th>More than one race</th>\n",
       "      <td>0.770144</td>\n",
       "    </tr>\n",
       "    <tr>\n",
       "      <th>Native American</th>\n",
       "      <td>0.685022</td>\n",
       "    </tr>\n",
       "    <tr>\n",
       "      <th>White</th>\n",
       "      <td>0.825604</td>\n",
       "    </tr>\n",
       "  </tbody>\n",
       "</table>\n",
       "</div>"
      ],
      "text/plain": [
       "                              VOREG\n",
       "NEWRACE                            \n",
       "Asian or Pacific Islander  0.704353\n",
       "Black                      0.833286\n",
       "More than one race         0.770144\n",
       "Native American            0.685022\n",
       "White                      0.825604"
      ]
     },
     "execution_count": 17,
     "metadata": {},
     "output_type": "execute_result"
    }
   ],
   "source": [
    "voRegRace = vrdf[[\"VOREG\", \"NEWRACE\"]].groupby(\"NEWRACE\").mean()\n",
    "voRegRace"
   ]
  },
  {
   "cell_type": "markdown",
   "metadata": {},
   "source": [
    "Voter registration patterns varied inconsistently over race."
   ]
  },
  {
   "cell_type": "markdown",
   "metadata": {},
   "source": [
    "## VOREGHOW "
   ]
  },
  {
   "cell_type": "code",
   "execution_count": 28,
   "metadata": {},
   "outputs": [
    {
     "data": {
      "text/plain": [
       "1    15235\n",
       "5    11997\n",
       "3     6046\n",
       "7     4198\n",
       "8     3269\n",
       "9     2971\n",
       "4     2740\n",
       "6     2007\n",
       "2      597\n",
       "Name: VOREGHOW, dtype: int64"
      ]
     },
     "execution_count": 28,
     "metadata": {},
     "output_type": "execute_result"
    }
   ],
   "source": [
    "vreghdf = df[df[\"VOREGHOW\"] < 10]\n",
    "vreghdf[\"VOREGHOW\"].value_counts()"
   ]
  },
  {
   "cell_type": "markdown",
   "metadata": {},
   "source": []
  },
  {
   "cell_type": "code",
   "execution_count": 29,
   "metadata": {},
   "outputs": [
    {
     "data": {
      "text/html": [
       "<div>\n",
       "<style scoped>\n",
       "    .dataframe tbody tr th:only-of-type {\n",
       "        vertical-align: middle;\n",
       "    }\n",
       "\n",
       "    .dataframe tbody tr th {\n",
       "        vertical-align: top;\n",
       "    }\n",
       "\n",
       "    .dataframe thead th {\n",
       "        text-align: right;\n",
       "    }\n",
       "</style>\n",
       "<table border=\"1\" class=\"dataframe\">\n",
       "  <thead>\n",
       "    <tr style=\"text-align: right;\">\n",
       "      <th></th>\n",
       "      <th>VOREGHOW</th>\n",
       "    </tr>\n",
       "    <tr>\n",
       "      <th>Age Band</th>\n",
       "      <th></th>\n",
       "    </tr>\n",
       "  </thead>\n",
       "  <tbody>\n",
       "    <tr>\n",
       "      <th>18-32</th>\n",
       "      <td>In person</td>\n",
       "    </tr>\n",
       "    <tr>\n",
       "      <th>32-44</th>\n",
       "      <td>In person</td>\n",
       "    </tr>\n",
       "    <tr>\n",
       "      <th>44-58</th>\n",
       "      <td>In person</td>\n",
       "    </tr>\n",
       "    <tr>\n",
       "      <th>58-72</th>\n",
       "      <td>Govt. office</td>\n",
       "    </tr>\n",
       "    <tr>\n",
       "      <th>72-85</th>\n",
       "      <td>Govt. office</td>\n",
       "    </tr>\n",
       "  </tbody>\n",
       "</table>\n",
       "</div>"
      ],
      "text/plain": [
       "              VOREGHOW\n",
       "Age Band              \n",
       "18-32        In person\n",
       "32-44        In person\n",
       "44-58        In person\n",
       "58-72     Govt. office\n",
       "72-85     Govt. office"
      ]
     },
     "execution_count": 29,
     "metadata": {},
     "output_type": "execute_result"
    }
   ],
   "source": [
    "VoteRegHowBasedOnAge = vreghdf[[\"Age Band\", \"VOREGHOW\"]].groupby(\"Age Band\").agg(pd.Series.mode)\n",
    "VoteRegHowBasedOnAge.rename(columns={'VOREGHOW': \"VOREGHOW\"}, inplace=True)\n",
    "VoteRegHowBasedOnAge.replace([1], \"In person\", inplace=True)\n",
    "VoteRegHowBasedOnAge.replace([5], \"Govt. office\", inplace=True)\n",
    "VoteRegHowBasedOnAge"
   ]
  },
  {
   "cell_type": "markdown",
   "metadata": {},
   "source": []
  },
  {
   "cell_type": "code",
   "execution_count": 32,
   "metadata": {},
   "outputs": [
    {
     "data": {
      "text/html": [
       "<div>\n",
       "<style scoped>\n",
       "    .dataframe tbody tr th:only-of-type {\n",
       "        vertical-align: middle;\n",
       "    }\n",
       "\n",
       "    .dataframe tbody tr th {\n",
       "        vertical-align: top;\n",
       "    }\n",
       "\n",
       "    .dataframe thead th {\n",
       "        text-align: right;\n",
       "    }\n",
       "</style>\n",
       "<table border=\"1\" class=\"dataframe\">\n",
       "  <thead>\n",
       "    <tr style=\"text-align: right;\">\n",
       "      <th></th>\n",
       "      <th>VOREGHOW</th>\n",
       "    </tr>\n",
       "    <tr>\n",
       "      <th>SEX</th>\n",
       "      <th></th>\n",
       "    </tr>\n",
       "  </thead>\n",
       "  <tbody>\n",
       "    <tr>\n",
       "      <th>1</th>\n",
       "      <td>In person</td>\n",
       "    </tr>\n",
       "    <tr>\n",
       "      <th>2</th>\n",
       "      <td>In person</td>\n",
       "    </tr>\n",
       "  </tbody>\n",
       "</table>\n",
       "</div>"
      ],
      "text/plain": [
       "      VOREGHOW\n",
       "SEX           \n",
       "1    In person\n",
       "2    In person"
      ]
     },
     "execution_count": 32,
     "metadata": {},
     "output_type": "execute_result"
    }
   ],
   "source": [
    "VoteRegHowBasedOnSex = vreghdf[[\"SEX\", \"VOREGHOW\"]].groupby(\"SEX\").agg(pd.Series.mode)\n",
    "VoteRegHowBasedOnSex.rename(columns={'VOREGHOW': \"VOREGHOW\"}, inplace=True)\n",
    "VoteRegHowBasedOnSex.replace([1], \"In person\", inplace=True)\n",
    "VoteRegHowBasedOnSex"
   ]
  },
  {
   "cell_type": "code",
   "execution_count": 31,
   "metadata": {},
   "outputs": [
    {
     "data": {
      "text/html": [
       "<div>\n",
       "<style scoped>\n",
       "    .dataframe tbody tr th:only-of-type {\n",
       "        vertical-align: middle;\n",
       "    }\n",
       "\n",
       "    .dataframe tbody tr th {\n",
       "        vertical-align: top;\n",
       "    }\n",
       "\n",
       "    .dataframe thead th {\n",
       "        text-align: right;\n",
       "    }\n",
       "</style>\n",
       "<table border=\"1\" class=\"dataframe\">\n",
       "  <thead>\n",
       "    <tr style=\"text-align: right;\">\n",
       "      <th></th>\n",
       "      <th>VOREGHOW</th>\n",
       "    </tr>\n",
       "    <tr>\n",
       "      <th>NEWRACE</th>\n",
       "      <th></th>\n",
       "    </tr>\n",
       "  </thead>\n",
       "  <tbody>\n",
       "    <tr>\n",
       "      <th>Asian or Pacific Islander</th>\n",
       "      <td>In person</td>\n",
       "    </tr>\n",
       "    <tr>\n",
       "      <th>Black</th>\n",
       "      <td>In person</td>\n",
       "    </tr>\n",
       "    <tr>\n",
       "      <th>More than one race</th>\n",
       "      <td>In person</td>\n",
       "    </tr>\n",
       "    <tr>\n",
       "      <th>Native American</th>\n",
       "      <td>Govt. office</td>\n",
       "    </tr>\n",
       "    <tr>\n",
       "      <th>White</th>\n",
       "      <td>In person</td>\n",
       "    </tr>\n",
       "  </tbody>\n",
       "</table>\n",
       "</div>"
      ],
      "text/plain": [
       "                               VOREGHOW\n",
       "NEWRACE                                \n",
       "Asian or Pacific Islander     In person\n",
       "Black                         In person\n",
       "More than one race            In person\n",
       "Native American            Govt. office\n",
       "White                         In person"
      ]
     },
     "execution_count": 31,
     "metadata": {},
     "output_type": "execute_result"
    }
   ],
   "source": [
    "VoteRegHowBasedOnRace = vreghdf[[\"NEWRACE\", \"VOREGHOW\"]].groupby(\"NEWRACE\").agg(pd.Series.mode)\n",
    "VoteRegHowBasedOnRace.rename(columns={'VOREGHOW': \"VOREGHOW\"}, inplace=True)\n",
    "VoteRegHowBasedOnRace.replace([1], \"In person\", inplace=True)\n",
    "VoteRegHowBasedOnRace.replace([5], \"Govt. office\", inplace=True)\n",
    "VoteRegHowBasedOnRace"
   ]
  },
  {
   "cell_type": "markdown",
   "metadata": {},
   "source": [
    "## VOYNOTREG"
   ]
  },
  {
   "cell_type": "markdown",
   "metadata": {},
   "source": [
    "## For each age group, what is the most popular reason for not voting ?"
   ]
  },
  {
   "cell_type": "code",
   "execution_count": null,
   "metadata": {},
   "outputs": [],
   "source": [
    "whyNotVoteBasedOnAge = nrvdf[[\"Age Band\", \"VOYNOTREG\"]].groupby(\"Age Band\").agg(pd.Series.mode)\n",
    "whyNotVoteBasedOnAge.rename(columns={'VOYNOTREG': \"Most popular reason for not registering to vote\"}, inplace=True)\n",
    "whyNotVoteBasedOnAge.replace([6], \"Not interested in politics or the election\", inplace=True)\n",
    "whyNotVoteBasedOnAge"
   ]
  },
  {
   "cell_type": "markdown",
   "metadata": {},
   "source": [
    "The most popular reason for not registering to vote *across all age bands* was **Not being interested in the election or politics**. So, the reason for not registering to vote did not vary across ages."
   ]
  },
  {
   "cell_type": "markdown",
   "metadata": {},
   "source": [
    "## Next, did the most popular reason that voters did not register vary across sex ?"
   ]
  },
  {
   "cell_type": "code",
   "execution_count": null,
   "metadata": {},
   "outputs": [],
   "source": [
    "whyNotVoteBasedOnSex = nrvdf[[\"SEX\", \"VOYNOTREG\"]].groupby(\"SEX\").agg(pd.Series.mode)\n",
    "whyNotVoteBasedOnSex.rename(columns={'VOYNOTREG': \"Most popular reason for not registering to vote\"}, inplace=True)\n",
    "whyNotVoteBasedOnSex.replace([6], \"Not interested in politics or the election\", inplace=True)\n",
    "whyNotVoteBasedOnSex"
   ]
  },
  {
   "cell_type": "markdown",
   "metadata": {},
   "source": [
    "The most popular reason for not registering to vote **did not vary across genders**. Both most males and most females said they did not register to vote because they were not interested in the election or politics."
   ]
  },
  {
   "cell_type": "markdown",
   "metadata": {},
   "source": [
    "## Finally, look at the most popular reason for why people did not register to vote across RACE"
   ]
  },
  {
   "cell_type": "code",
   "execution_count": null,
   "metadata": {},
   "outputs": [],
   "source": [
    "whyNotVoteBasedOnRace = nrvdf[[\"NEWRACE\", \"VOYNOTREG\"]].groupby(\"NEWRACE\").agg(pd.Series.mode)\n",
    "whyNotVoteBasedOnSex.replace([6], \"Not interested in politics or the election\", inplace=True)\n",
    "whyNotVoteBasedOnRace.rename(columns={'VOYNOTREG': \"Most popular reason for not voting\"}, inplace=True)\n",
    "whyNotVoteBasedOnRace"
   ]
  },
  {
   "cell_type": "markdown",
   "metadata": {},
   "source": [
    "Again, the reason for not registering to vote **did not vary across race**."
   ]
  },
  {
   "cell_type": "markdown",
   "metadata": {},
   "source": [
    "So, the reason for not registering to vote did not vary across age, sex, and race. All those who did not vote said they did not register to vote because they were not interested in the election or politics."
   ]
  },
  {
   "cell_type": "markdown",
   "metadata": {},
   "source": [
    "# Voter Turnout Analysis: (Part B)"
   ]
  },
  {
   "cell_type": "markdown",
   "metadata": {},
   "source": [
    "# VOTED "
   ]
  },
  {
   "cell_type": "markdown",
   "metadata": {},
   "source": [
    "varied across the different factors. "
   ]
  },
  {
   "cell_type": "markdown",
   "metadata": {},
   "source": [
    "# How many people voted ?"
   ]
  },
  {
   "cell_type": "code",
   "execution_count": null,
   "metadata": {},
   "outputs": [],
   "source": [
    "df[\"VOTED\"].value_counts()"
   ]
  },
  {
   "cell_type": "code",
   "execution_count": null,
   "metadata": {},
   "outputs": [],
   "source": [
    "df.loc[df.VOTED == 1, \"VOTED\"] = 0"
   ]
  },
  {
   "cell_type": "code",
   "execution_count": null,
   "metadata": {},
   "outputs": [],
   "source": [
    "df.loc[df.VOTED == 2, \"VOTED\"] = 1"
   ]
  },
  {
   "cell_type": "markdown",
   "metadata": {},
   "source": [
    "Above, we simply change the VOTED values to binary values (0 for didn't vote, 1 for did vote) to make it easier for us to compute averages."
   ]
  },
  {
   "cell_type": "code",
   "execution_count": null,
   "metadata": {},
   "outputs": [],
   "source": [
    "df[\"VOTED\"].value_counts()"
   ]
  },
  {
   "cell_type": "markdown",
   "metadata": {},
   "source": [
    "Doing a value count on the VOTED column tells us that most people voted (~66%). Now what we can do is try to see for each age from 18-80, the percentage of individuals of that age that voted."
   ]
  },
  {
   "cell_type": "markdown",
   "metadata": {},
   "source": [
    "# What ages voted the most and the least ?"
   ]
  },
  {
   "cell_type": "code",
   "execution_count": null,
   "metadata": {},
   "outputs": [],
   "source": [
    "df[\"Age Band\"].value_counts()"
   ]
  },
  {
   "cell_type": "code",
   "execution_count": null,
   "metadata": {},
   "outputs": [],
   "source": [
    "ageVotes = df[[\"Age Band\", \"VOTED\"]].groupby([\"Age Band\"], as_index=False).mean().sort_values(by=\"VOTED\")"
   ]
  },
  {
   "cell_type": "code",
   "execution_count": null,
   "metadata": {},
   "outputs": [],
   "source": [
    "ageVotes.set_index(\"Age Band\", drop=True, inplace=True)"
   ]
  },
  {
   "cell_type": "code",
   "execution_count": null,
   "metadata": {},
   "outputs": [],
   "source": [
    "ageVotesGraph = ageVotes.plot(color=\"red\")\n",
    "ageVotesGraph.set_ylabel(\"Percentage of that age band that voted\")\n",
    "ageVotesGraph.set_title(\"Votership by Age Group\")"
   ]
  },
  {
   "cell_type": "markdown",
   "metadata": {},
   "source": [
    "As we can see from the above graph, those in the **age range of 58 to 72 had the highest votership of almost 80%**, whereas those in the **age range of 18 to 32 had the lowest voter turnout**.\n",
    "\n",
    "Potential solutions: \n",
    "1. To increase voter turnout amongst the age group of 18-32 a possible solution could be to target college students in densely packed campuses by increasing education and awareness of the importance of voting by holding modules and education programs leading up to elections"
   ]
  },
  {
   "cell_type": "markdown",
   "metadata": {},
   "source": [
    "# How does votership break down by race ?"
   ]
  },
  {
   "cell_type": "code",
   "execution_count": null,
   "metadata": {},
   "outputs": [],
   "source": [
    "df[\"RACE\"].value_counts()"
   ]
  },
  {
   "cell_type": "markdown",
   "metadata": {},
   "source": [
    "We can already see that we have a large pool of values for the RACE feature that makes analysis tedious. To simplify our analysis, we will clean our data to focus on the following races: White (100), Black (200), Asian (651, 652) and Native American (300), and more than one race (801-830). Note that we can also use the RACESIMPLE feature to get this information without doing any further work, but for demonstration purposes, we will try cleaning the data ourselves. We will create this information in a column called *NEWRACE*."
   ]
  },
  {
   "cell_type": "code",
   "execution_count": null,
   "metadata": {},
   "outputs": [],
   "source": [
    "raceVotes = df[[\"NEWRACE\", \"VOTED\"]].groupby([\"NEWRACE\"], as_index=False).mean().sort_values(by=\"VOTED\", ascending=False)\n",
    "raceVotes.rename(columns={\"NEWRACE\": \"RACE\"}, inplace=True) #rename NEWRACE to clear ambigiouity\n",
    "raceVotes.set_index(\"RACE\", drop=True, inplace=True)\n",
    "raceVotes"
   ]
  },
  {
   "cell_type": "code",
   "execution_count": null,
   "metadata": {},
   "outputs": [],
   "source": [
    "raceVotesGraph = raceVotes.plot.bar(color=\"green\")\n",
    "raceVotesGraph.set_ylabel(\"Pecentage\")\n",
    "raceVotesGraph.set_title(\"Votership by Race\")"
   ]
  },
  {
   "cell_type": "markdown",
   "metadata": {},
   "source": [
    "**We can conclude from our analysis of race that those who or Black and White are equally as likely to vote, each voting at about a 68% rate. Native Americans are the least likely to vote, with less than half of all Native Americans voting. Asian Americans also fall behind in votership, with 45% of their population abstaining from the polls. Those who hail from a background of more than one race are more likely to vote than Asian and Native Americans, but less likely than Black or White people.**\n",
    "\n",
    "Solutions: "
   ]
  },
  {
   "cell_type": "markdown",
   "metadata": {},
   "source": [
    "## What does votership look like when considering Hispanic/Non-Hispanic ?"
   ]
  },
  {
   "cell_type": "markdown",
   "metadata": {},
   "source": [
    "As a corollary to race, we should also look at how many of those with a Hispanic background did not vote, as they are historically under-educated, and thus I predict their votership numbers are down in comparison to Non-Hispanics. 0 = Non-Hispanics, 1 = Hispanics"
   ]
  },
  {
   "cell_type": "code",
   "execution_count": null,
   "metadata": {},
   "outputs": [],
   "source": [
    "df[\"HISPSIMPLE\"].value_counts()"
   ]
  },
  {
   "cell_type": "code",
   "execution_count": null,
   "metadata": {},
   "outputs": [],
   "source": [
    "hispVotes = df[[\"HISPSIMPLE\", \"VOTED\"]].groupby([\"HISPSIMPLE\"], as_index=False).mean()\n",
    "hispVotes.rename(columns={\"HISPSIMPLE\": \"Hispanic Ethnicity\", \"VOTED\": \"Voted\"}, inplace=True)\n",
    "hispVotes.replace([0], \"Not Hispanic\", inplace=True)\n",
    "hispVotes.replace([1], \"Hispanic\", inplace=True)\n",
    "hispVotes.set_index(\"Hispanic Ethnicity\", drop=True, inplace=True)\n",
    "hispVotes"
   ]
  },
  {
   "cell_type": "code",
   "execution_count": null,
   "metadata": {},
   "outputs": [],
   "source": [
    "hispVotesGraph = hispVotes.plot.bar(color=\"blue\")\n",
    "hispVotesGraph.set_ylabel(\"Pecentage\")\n",
    "hispVotesGraph.set_title(\"Votership across Hispanic ethnicity\")"
   ]
  },
  {
   "cell_type": "markdown",
   "metadata": {},
   "source": [
    "**As I predicted, Hispanics were (14%) less likely to vote than their Non-Hispanic counterparts**\n",
    "\n",
    "Solutions: \n",
    "    1. "
   ]
  },
  {
   "cell_type": "markdown",
   "metadata": {},
   "source": [
    "# How does martial status affect votership?"
   ]
  },
  {
   "cell_type": "code",
   "execution_count": null,
   "metadata": {},
   "outputs": [],
   "source": [
    "df[\"MARRSIMPLE\"].value_counts()"
   ]
  },
  {
   "cell_type": "code",
   "execution_count": null,
   "metadata": {},
   "outputs": [],
   "source": [
    "marrVotes = df[[\"MARRSIMPLE\", \"VOTED\"]].groupby([\"MARRSIMPLE\"], as_index=False).mean().sort_values(by=\"VOTED\",  ascending=False)"
   ]
  },
  {
   "cell_type": "code",
   "execution_count": null,
   "metadata": {},
   "outputs": [],
   "source": [
    "marrVotes['MARRSIMPLE'].replace([1],'Married', inplace=True)\n",
    "marrVotes['MARRSIMPLE'].replace([2],'Divorced',inplace=True)\n",
    "marrVotes['MARRSIMPLE'].replace([3],'Single',inplace=True)"
   ]
  },
  {
   "cell_type": "code",
   "execution_count": null,
   "metadata": {},
   "outputs": [],
   "source": [
    "marrVotes.set_index(\"MARRSIMPLE\", drop=True, inplace=True)"
   ]
  },
  {
   "cell_type": "code",
   "execution_count": null,
   "metadata": {},
   "outputs": [],
   "source": [
    "marrVotesGraph = marrVotes.plot.bar(color=\"yellow\")\n",
    "marrVotesGraph.set_ylabel(\"Pecentage\")\n",
    "marrVotesGraph.set_title(\"Votership across martial status\")"
   ]
  },
  {
   "cell_type": "markdown",
   "metadata": {},
   "source": [
    "Married people are more than 73% likely to vote, only 52% are voting amongst young/single poeple --> room for improvement Divorced = 63% Solutions:\n",
    "\n",
    "People who are single are most likely younger --> target singles who are younger i.e. young professionals or students"
   ]
  },
  {
   "cell_type": "markdown",
   "metadata": {},
   "source": [
    "# VOTEWHEN"
   ]
  },
  {
   "cell_type": "code",
   "execution_count": null,
   "metadata": {},
   "outputs": [],
   "source": [
    "df[\"VOTEWHEN\"].value_counts()"
   ]
  },
  {
   "cell_type": "code",
   "execution_count": null,
   "metadata": {},
   "outputs": [],
   "source": [
    "vwdf = df[df[\"VOTEWHEN\"] < 3] # create a new dataframe from the original dataframe and assign it to a variable so we dont modify the original dataset. \n",
    "#Get all the data for those that voted on election day OR before election date."
   ]
  },
  {
   "cell_type": "code",
   "execution_count": null,
   "metadata": {},
   "outputs": [],
   "source": [
    "vwdf[\"VOTEWHEN\"].value_counts()"
   ]
  },
  {
   "cell_type": "markdown",
   "metadata": {},
   "source": [
    "## How does when an individual voted differ by age ?"
   ]
  },
  {
   "cell_type": "code",
   "execution_count": null,
   "metadata": {},
   "outputs": [],
   "source": [
    "vwdf[[\"Age Band\", \"VOTEWHEN\"]].groupby([\"Age Band\"]).agg(pd.Series.mode)"
   ]
  },
  {
   "cell_type": "markdown",
   "metadata": {},
   "source": [
    "Across all age groups, **most people voted on the day of the election.**"
   ]
  },
  {
   "cell_type": "markdown",
   "metadata": {},
   "source": [
    "## How does when an individual voted differ by race ?"
   ]
  },
  {
   "cell_type": "code",
   "execution_count": null,
   "metadata": {},
   "outputs": [],
   "source": [
    "vwdf[[\"NEWRACE\", \"VOTEWHEN\"]].groupby([\"NEWRACE\"]).agg(pd.Series.mode)"
   ]
  },
  {
   "cell_type": "markdown",
   "metadata": {},
   "source": [
    "Across all races, **most people voted on the day of the election.**"
   ]
  },
  {
   "cell_type": "markdown",
   "metadata": {},
   "source": [
    "## VOTEWHYNOT"
   ]
  },
  {
   "cell_type": "markdown",
   "metadata": {},
   "source": [
    "***Todo***"
   ]
  },
  {
   "cell_type": "code",
   "execution_count": null,
   "metadata": {},
   "outputs": [],
   "source": []
  },
  {
   "cell_type": "code",
   "execution_count": null,
   "metadata": {},
   "outputs": [],
   "source": []
  },
  {
   "cell_type": "code",
   "execution_count": null,
   "metadata": {},
   "outputs": [],
   "source": []
  },
  {
   "cell_type": "markdown",
   "metadata": {},
   "source": [
    "## Is there a strong relationship between voter registration and voter turnout ?"
   ]
  },
  {
   "cell_type": "code",
   "execution_count": null,
   "metadata": {},
   "outputs": [],
   "source": [
    "df[\"VOTED\"].value_counts()"
   ]
  },
  {
   "cell_type": "code",
   "execution_count": null,
   "metadata": {},
   "outputs": [],
   "source": [
    "df[\"VOREG\"].value_counts()"
   ]
  },
  {
   "cell_type": "markdown",
   "metadata": {},
   "source": [
    "VOREG describes the total amount of people who registered to vote. NIU in VOREG are the people who registered and voted (48,337). 1 in VOREG is the amount of people who registered (12049), but did not end up voting. So the total number of people who registed to vote is (48,337 + 12049 = 60386). Of this, we can see that there is a strong relationship between voter registration and voter turnout (48337/60386 = ~ 80%). So of every 5 people that registered to vote, 4 ended up actually votong. "
   ]
  },
  {
   "cell_type": "code",
   "execution_count": null,
   "metadata": {},
   "outputs": [],
   "source": [
    "labels = [\"People who voted\"]\n",
    "regAndVoted = [48337]\n",
    "totalReg = [60386]\n",
    "\n",
    "x = np.arange(len(labels))\n",
    "width = 0.05\n",
    "\n",
    "fig, ax = plots.subplots()\n",
    "rects1 = ax.bar(x - width/2, regAndVoted, width, label='Registered and Voted')\n",
    "rects = ax.bar(x + width/2, totalReg, width, label='Total Registered')\n",
    "ax.set_xticks([])\n",
    "ax.set_ylim(0, 80000)\n",
    "ax.set_ylabel(\"# of People\")\n",
    "ax.set_title(\"Voter registration vs. Voter turnout\")\n",
    "ax.legend()\n",
    "\n",
    "plots.show()"
   ]
  },
  {
   "cell_type": "markdown",
   "metadata": {},
   "source": [
    "# Voting by Education (Part C)"
   ]
  },
  {
   "cell_type": "markdown",
   "metadata": {},
   "source": [
    "## How does having a degree beyond high school influence voting ?"
   ]
  },
  {
   "cell_type": "code",
   "execution_count": null,
   "metadata": {},
   "outputs": [],
   "source": [
    "df[\"EDUSIMPLE\"].value_counts()"
   ]
  },
  {
   "cell_type": "code",
   "execution_count": null,
   "metadata": {},
   "outputs": [],
   "source": [
    "df[\"NEWEDU\"] = df[\"EDUSIMPLE\"]\n",
    "df[\"NEWEDU\"].replace(0, \"No School\", inplace=True)\n",
    "df[\"NEWEDU\"].replace(1, \"Some school, no diploma\", inplace=True)\n",
    "df[\"NEWEDU\"].replace(2, \"GED\", inplace=True)\n",
    "df[\"NEWEDU\"].replace(3, \"Some college, no degree\", inplace=True)\n",
    "df[\"NEWEDU\"].replace(4, \"Associate\", inplace=True)\n",
    "df[\"NEWEDU\"].replace(5, \"Bachelors\", inplace=True)\n",
    "df[\"NEWEDU\"].replace(6, \"Masters\", inplace=True)\n",
    "df[\"NEWEDU\"].replace(7, \"Doctorate\", inplace=True)\n",
    "eduVotes = df[[\"NEWEDU\", \"VOTED\"]].groupby([\"NEWEDU\"], as_index=False).mean().sort_values(by=\"VOTED\")\n",
    "eduVotes.rename(columns={\"NEWEDU\": \"Level of Education\", \"VOTED\": \"Voted\"}, inplace=True)\n",
    "eduVotes.set_index(\"Level of Education\", drop=True, inplace=True)\n",
    "eduVotes"
   ]
  },
  {
   "cell_type": "code",
   "execution_count": null,
   "metadata": {},
   "outputs": [],
   "source": [
    "eduVotesGraph = eduVotes.plot.bar(color=\"orange\")\n",
    "eduVotesGraph.set_ylabel(\"% that Voted\")\n",
    "eduVotesGraph.set_title(\"Votership across education levels\")"
   ]
  },
  {
   "cell_type": "markdown",
   "metadata": {},
   "source": [
    "**As the level of education increases, voter turnout increases.**\n",
    "\n",
    "Solutions: \n",
    "    1. focus on people who do a majority of unskilled labor i.e. blue collar workers (fastfood workers etc.) (bc probably less educated) and less on white collar workers i.e. professors, engineers etc. "
   ]
  },
  {
   "cell_type": "markdown",
   "metadata": {},
   "source": [
    "## Did the reason for not voting differ based on education ?"
   ]
  },
  {
   "cell_type": "code",
   "execution_count": null,
   "metadata": {},
   "outputs": [],
   "source": [
    "whyNotVoteBasedOnEdu = nvdf[[\"EDUSIMPLE\", \"VOWHYNOT\"]].groupby([\"EDUSIMPLE\"]).agg(pd.Series.mode)\n",
    "whyNotVoteBasedOnEdu"
   ]
  },
  {
   "cell_type": "markdown",
   "metadata": {},
   "source": [
    "The most popular reason for not voting for those with ***some school but no diploma*** was an **illness or disability**. For all those who didn't vote with a ***high school diploma and above***, the most popular reason for not voting was that they were **too busy, or had conflicting work or school schedules**."
   ]
  },
  {
   "cell_type": "markdown",
   "metadata": {},
   "source": [
    "# Voting by State (Part D)"
   ]
  },
  {
   "cell_type": "markdown",
   "metadata": {},
   "source": [
    "## How do voting registration patterns vary by state ?"
   ]
  },
  {
   "cell_type": "code",
   "execution_count": null,
   "metadata": {},
   "outputs": [],
   "source": [
    "stateVoRegHow = rvdf[[\"STATE\", \"VOREGHOW\"]].groupby([\"STATE\"], as_index=False).agg(pd.Series.mode).sort_values(by=\"VOREGHOW\")"
   ]
  },
  {
   "cell_type": "code",
   "execution_count": null,
   "metadata": {},
   "outputs": [],
   "source": [
    "stateVoRegHow[[\"STATE\", \"VOREGHOW\"]]"
   ]
  },
  {
   "cell_type": "code",
   "execution_count": null,
   "metadata": {},
   "outputs": [],
   "source": [
    "stateVoRegHowBuckets ={}\n",
    "\n",
    "for val in stateVoRegHow[\"VOREGHOW\"]:\n",
    "    if val in stateVoRegHowBuckets: \n",
    "        stateVoRegHowBuckets[val] = stateVoRegHowBuckets[val] + 1\n",
    "    else:\n",
    "        stateVoRegHowBuckets[val] = 1\n",
    "\n",
    "stateVoRegHowBuckets"
   ]
  },
  {
   "cell_type": "code",
   "execution_count": null,
   "metadata": {},
   "outputs": [],
   "source": [
    "stateVoRegHowLabels = [\"DMV\", \"Registration Office\", \"Polling Place\", \"Mail\", \"Other\" ]\n",
    "stateVoRegHowSizes = [28, 16, 4, 2, 1]\n",
    "plots.pie(x=stateVoRegHowSizes, labels=stateVoRegHowLabels, autopct='%1.1f%%')\n",
    "plots.title(\"Methods of Voting Across the USA\")\n",
    "plots.show()"
   ]
  },
  {
   "cell_type": "markdown",
   "metadata": {},
   "source": [
    "So, the most popular way to register to vote across America is through the DMV (1) (28 states). The second most popular way to register is through a government registration office (5) (16 states). "
   ]
  },
  {
   "cell_type": "markdown",
   "metadata": {},
   "source": [
    "**TODO**: Analyze this, and then do same for VOYNOTREG (get most popular reason for not voting in each state)"
   ]
  },
  {
   "cell_type": "code",
   "execution_count": null,
   "metadata": {},
   "outputs": [],
   "source": []
  },
  {
   "cell_type": "code",
   "execution_count": null,
   "metadata": {},
   "outputs": [],
   "source": []
  },
  {
   "cell_type": "code",
   "execution_count": null,
   "metadata": {},
   "outputs": [],
   "source": []
  },
  {
   "cell_type": "markdown",
   "metadata": {},
   "source": [
    "## Which states had the highest percentage of those surveyed who did not vote ?"
   ]
  },
  {
   "cell_type": "code",
   "execution_count": null,
   "metadata": {},
   "outputs": [],
   "source": [
    "df[\"NOTVOTED\"] = 1 - df[\"VOTED\"] #CREATE NEW FEATURE 'NOTVOTED'"
   ]
  },
  {
   "cell_type": "code",
   "execution_count": null,
   "metadata": {},
   "outputs": [],
   "source": [
    "df[[\"STATE\", \"NOTVOTED\"]].groupby([\"STATE\"]).mean().sort_values(by=\"NOTVOTED\",ascending=False)"
   ]
  },
  {
   "cell_type": "markdown",
   "metadata": {},
   "source": [
    "**West Virginia had the highest percentage of people who did not vote** (~46%)."
   ]
  }
 ],
 "metadata": {
  "kernelspec": {
   "display_name": "Python 3",
   "language": "python",
   "name": "python3"
  },
  "language_info": {
   "codemirror_mode": {
    "name": "ipython",
    "version": 3
   },
   "file_extension": ".py",
   "mimetype": "text/x-python",
   "name": "python",
   "nbconvert_exporter": "python",
   "pygments_lexer": "ipython3",
   "version": "3.8.5"
  }
 },
 "nbformat": 4,
 "nbformat_minor": 4
}
