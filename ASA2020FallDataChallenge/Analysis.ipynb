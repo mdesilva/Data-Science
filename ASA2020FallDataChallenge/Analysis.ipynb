{
 "cells": [
  {
   "cell_type": "code",
   "execution_count": 1,
   "metadata": {},
   "outputs": [],
   "source": [
    "import numpy as np\n",
    "# from datascience import *\n",
    "\n",
    "%matplotlib inline\n",
    "import matplotlib.pyplot as plots\n",
    "plots.style.use('fivethirtyeight')\n",
    "import warnings\n",
    "warnings.simplefilter('ignore', FutureWarning)\n",
    "\n",
    "import pandas as pd"
   ]
  },
  {
   "cell_type": "code",
   "execution_count": 2,
   "metadata": {},
   "outputs": [
    {
     "data": {
      "text/html": [
       "<div>\n",
       "<style scoped>\n",
       "    .dataframe tbody tr th:only-of-type {\n",
       "        vertical-align: middle;\n",
       "    }\n",
       "\n",
       "    .dataframe tbody tr th {\n",
       "        vertical-align: top;\n",
       "    }\n",
       "\n",
       "    .dataframe thead th {\n",
       "        text-align: right;\n",
       "    }\n",
       "</style>\n",
       "<table border=\"1\" class=\"dataframe\">\n",
       "  <thead>\n",
       "    <tr style=\"text-align: right;\">\n",
       "      <th></th>\n",
       "      <th>YEAR</th>\n",
       "      <th>STATEFIP</th>\n",
       "      <th>METRO</th>\n",
       "      <th>AGE</th>\n",
       "      <th>SEX</th>\n",
       "      <th>RACE</th>\n",
       "      <th>MARST</th>\n",
       "      <th>VETSTAT</th>\n",
       "      <th>CITIZEN</th>\n",
       "      <th>HISPAN</th>\n",
       "      <th>...</th>\n",
       "      <th>VOTEHOW</th>\n",
       "      <th>VOTEWHEN</th>\n",
       "      <th>VOREGHOW</th>\n",
       "      <th>VOTED</th>\n",
       "      <th>VOREG</th>\n",
       "      <th>VOSUPPWT</th>\n",
       "      <th>MARRSIMPLE</th>\n",
       "      <th>RACESIMPLE</th>\n",
       "      <th>HISPSIMPLE</th>\n",
       "      <th>EDUSIMPLE</th>\n",
       "    </tr>\n",
       "  </thead>\n",
       "  <tbody>\n",
       "    <tr>\n",
       "      <th>0</th>\n",
       "      <td>2018</td>\n",
       "      <td>1</td>\n",
       "      <td>2</td>\n",
       "      <td>48</td>\n",
       "      <td>2</td>\n",
       "      <td>200</td>\n",
       "      <td>4</td>\n",
       "      <td>1</td>\n",
       "      <td>1</td>\n",
       "      <td>0</td>\n",
       "      <td>...</td>\n",
       "      <td>1</td>\n",
       "      <td>1</td>\n",
       "      <td>5</td>\n",
       "      <td>2</td>\n",
       "      <td>99</td>\n",
       "      <td>1957.3134</td>\n",
       "      <td>2</td>\n",
       "      <td>2</td>\n",
       "      <td>0</td>\n",
       "      <td>2</td>\n",
       "    </tr>\n",
       "    <tr>\n",
       "      <th>1</th>\n",
       "      <td>2018</td>\n",
       "      <td>1</td>\n",
       "      <td>2</td>\n",
       "      <td>53</td>\n",
       "      <td>2</td>\n",
       "      <td>200</td>\n",
       "      <td>4</td>\n",
       "      <td>1</td>\n",
       "      <td>1</td>\n",
       "      <td>0</td>\n",
       "      <td>...</td>\n",
       "      <td>1</td>\n",
       "      <td>1</td>\n",
       "      <td>3</td>\n",
       "      <td>2</td>\n",
       "      <td>99</td>\n",
       "      <td>1687.7836</td>\n",
       "      <td>2</td>\n",
       "      <td>2</td>\n",
       "      <td>0</td>\n",
       "      <td>3</td>\n",
       "    </tr>\n",
       "    <tr>\n",
       "      <th>2</th>\n",
       "      <td>2018</td>\n",
       "      <td>1</td>\n",
       "      <td>2</td>\n",
       "      <td>20</td>\n",
       "      <td>2</td>\n",
       "      <td>200</td>\n",
       "      <td>6</td>\n",
       "      <td>1</td>\n",
       "      <td>1</td>\n",
       "      <td>0</td>\n",
       "      <td>...</td>\n",
       "      <td>1</td>\n",
       "      <td>1</td>\n",
       "      <td>3</td>\n",
       "      <td>2</td>\n",
       "      <td>99</td>\n",
       "      <td>2678.8328</td>\n",
       "      <td>3</td>\n",
       "      <td>2</td>\n",
       "      <td>0</td>\n",
       "      <td>3</td>\n",
       "    </tr>\n",
       "    <tr>\n",
       "      <th>3</th>\n",
       "      <td>2018</td>\n",
       "      <td>1</td>\n",
       "      <td>2</td>\n",
       "      <td>61</td>\n",
       "      <td>1</td>\n",
       "      <td>200</td>\n",
       "      <td>1</td>\n",
       "      <td>2</td>\n",
       "      <td>1</td>\n",
       "      <td>0</td>\n",
       "      <td>...</td>\n",
       "      <td>1</td>\n",
       "      <td>1</td>\n",
       "      <td>5</td>\n",
       "      <td>2</td>\n",
       "      <td>99</td>\n",
       "      <td>1753.9945</td>\n",
       "      <td>1</td>\n",
       "      <td>2</td>\n",
       "      <td>0</td>\n",
       "      <td>3</td>\n",
       "    </tr>\n",
       "    <tr>\n",
       "      <th>4</th>\n",
       "      <td>2018</td>\n",
       "      <td>1</td>\n",
       "      <td>2</td>\n",
       "      <td>62</td>\n",
       "      <td>2</td>\n",
       "      <td>200</td>\n",
       "      <td>1</td>\n",
       "      <td>1</td>\n",
       "      <td>1</td>\n",
       "      <td>0</td>\n",
       "      <td>...</td>\n",
       "      <td>1</td>\n",
       "      <td>1</td>\n",
       "      <td>97</td>\n",
       "      <td>2</td>\n",
       "      <td>99</td>\n",
       "      <td>1778.5886</td>\n",
       "      <td>1</td>\n",
       "      <td>2</td>\n",
       "      <td>0</td>\n",
       "      <td>3</td>\n",
       "    </tr>\n",
       "    <tr>\n",
       "      <th>...</th>\n",
       "      <td>...</td>\n",
       "      <td>...</td>\n",
       "      <td>...</td>\n",
       "      <td>...</td>\n",
       "      <td>...</td>\n",
       "      <td>...</td>\n",
       "      <td>...</td>\n",
       "      <td>...</td>\n",
       "      <td>...</td>\n",
       "      <td>...</td>\n",
       "      <td>...</td>\n",
       "      <td>...</td>\n",
       "      <td>...</td>\n",
       "      <td>...</td>\n",
       "      <td>...</td>\n",
       "      <td>...</td>\n",
       "      <td>...</td>\n",
       "      <td>...</td>\n",
       "      <td>...</td>\n",
       "      <td>...</td>\n",
       "      <td>...</td>\n",
       "    </tr>\n",
       "    <tr>\n",
       "      <th>72999</th>\n",
       "      <td>2018</td>\n",
       "      <td>56</td>\n",
       "      <td>4</td>\n",
       "      <td>69</td>\n",
       "      <td>1</td>\n",
       "      <td>100</td>\n",
       "      <td>1</td>\n",
       "      <td>2</td>\n",
       "      <td>1</td>\n",
       "      <td>0</td>\n",
       "      <td>...</td>\n",
       "      <td>1</td>\n",
       "      <td>1</td>\n",
       "      <td>97</td>\n",
       "      <td>2</td>\n",
       "      <td>99</td>\n",
       "      <td>256.5947</td>\n",
       "      <td>1</td>\n",
       "      <td>1</td>\n",
       "      <td>0</td>\n",
       "      <td>4</td>\n",
       "    </tr>\n",
       "    <tr>\n",
       "      <th>73000</th>\n",
       "      <td>2018</td>\n",
       "      <td>56</td>\n",
       "      <td>4</td>\n",
       "      <td>60</td>\n",
       "      <td>2</td>\n",
       "      <td>100</td>\n",
       "      <td>1</td>\n",
       "      <td>1</td>\n",
       "      <td>1</td>\n",
       "      <td>0</td>\n",
       "      <td>...</td>\n",
       "      <td>1</td>\n",
       "      <td>1</td>\n",
       "      <td>97</td>\n",
       "      <td>2</td>\n",
       "      <td>99</td>\n",
       "      <td>226.8820</td>\n",
       "      <td>1</td>\n",
       "      <td>1</td>\n",
       "      <td>0</td>\n",
       "      <td>5</td>\n",
       "    </tr>\n",
       "    <tr>\n",
       "      <th>73001</th>\n",
       "      <td>2018</td>\n",
       "      <td>56</td>\n",
       "      <td>4</td>\n",
       "      <td>30</td>\n",
       "      <td>1</td>\n",
       "      <td>100</td>\n",
       "      <td>6</td>\n",
       "      <td>1</td>\n",
       "      <td>1</td>\n",
       "      <td>0</td>\n",
       "      <td>...</td>\n",
       "      <td>1</td>\n",
       "      <td>1</td>\n",
       "      <td>97</td>\n",
       "      <td>2</td>\n",
       "      <td>99</td>\n",
       "      <td>313.3757</td>\n",
       "      <td>3</td>\n",
       "      <td>1</td>\n",
       "      <td>0</td>\n",
       "      <td>6</td>\n",
       "    </tr>\n",
       "    <tr>\n",
       "      <th>73002</th>\n",
       "      <td>2018</td>\n",
       "      <td>56</td>\n",
       "      <td>4</td>\n",
       "      <td>56</td>\n",
       "      <td>1</td>\n",
       "      <td>100</td>\n",
       "      <td>6</td>\n",
       "      <td>2</td>\n",
       "      <td>1</td>\n",
       "      <td>0</td>\n",
       "      <td>...</td>\n",
       "      <td>1</td>\n",
       "      <td>2</td>\n",
       "      <td>7</td>\n",
       "      <td>2</td>\n",
       "      <td>99</td>\n",
       "      <td>265.6089</td>\n",
       "      <td>3</td>\n",
       "      <td>1</td>\n",
       "      <td>0</td>\n",
       "      <td>4</td>\n",
       "    </tr>\n",
       "    <tr>\n",
       "      <th>73003</th>\n",
       "      <td>2018</td>\n",
       "      <td>56</td>\n",
       "      <td>4</td>\n",
       "      <td>72</td>\n",
       "      <td>2</td>\n",
       "      <td>100</td>\n",
       "      <td>5</td>\n",
       "      <td>1</td>\n",
       "      <td>1</td>\n",
       "      <td>0</td>\n",
       "      <td>...</td>\n",
       "      <td>1</td>\n",
       "      <td>1</td>\n",
       "      <td>1</td>\n",
       "      <td>2</td>\n",
       "      <td>99</td>\n",
       "      <td>277.1607</td>\n",
       "      <td>2</td>\n",
       "      <td>1</td>\n",
       "      <td>0</td>\n",
       "      <td>2</td>\n",
       "    </tr>\n",
       "  </tbody>\n",
       "</table>\n",
       "<p>73004 rows × 28 columns</p>\n",
       "</div>"
      ],
      "text/plain": [
       "       YEAR  STATEFIP  METRO  AGE  SEX  RACE  MARST  VETSTAT  CITIZEN  HISPAN  \\\n",
       "0      2018         1      2   48    2   200      4        1        1       0   \n",
       "1      2018         1      2   53    2   200      4        1        1       0   \n",
       "2      2018         1      2   20    2   200      6        1        1       0   \n",
       "3      2018         1      2   61    1   200      1        2        1       0   \n",
       "4      2018         1      2   62    2   200      1        1        1       0   \n",
       "...     ...       ...    ...  ...  ...   ...    ...      ...      ...     ...   \n",
       "72999  2018        56      4   69    1   100      1        2        1       0   \n",
       "73000  2018        56      4   60    2   100      1        1        1       0   \n",
       "73001  2018        56      4   30    1   100      6        1        1       0   \n",
       "73002  2018        56      4   56    1   100      6        2        1       0   \n",
       "73003  2018        56      4   72    2   100      5        1        1       0   \n",
       "\n",
       "       ...  VOTEHOW  VOTEWHEN  VOREGHOW  VOTED  VOREG   VOSUPPWT  MARRSIMPLE  \\\n",
       "0      ...        1         1         5      2     99  1957.3134           2   \n",
       "1      ...        1         1         3      2     99  1687.7836           2   \n",
       "2      ...        1         1         3      2     99  2678.8328           3   \n",
       "3      ...        1         1         5      2     99  1753.9945           1   \n",
       "4      ...        1         1        97      2     99  1778.5886           1   \n",
       "...    ...      ...       ...       ...    ...    ...        ...         ...   \n",
       "72999  ...        1         1        97      2     99   256.5947           1   \n",
       "73000  ...        1         1        97      2     99   226.8820           1   \n",
       "73001  ...        1         1        97      2     99   313.3757           3   \n",
       "73002  ...        1         2         7      2     99   265.6089           3   \n",
       "73003  ...        1         1         1      2     99   277.1607           2   \n",
       "\n",
       "       RACESIMPLE  HISPSIMPLE  EDUSIMPLE  \n",
       "0               2           0          2  \n",
       "1               2           0          3  \n",
       "2               2           0          3  \n",
       "3               2           0          3  \n",
       "4               2           0          3  \n",
       "...           ...         ...        ...  \n",
       "72999           1           0          4  \n",
       "73000           1           0          5  \n",
       "73001           1           0          6  \n",
       "73002           1           0          4  \n",
       "73003           1           0          2  \n",
       "\n",
       "[73004 rows x 28 columns]"
      ]
     },
     "execution_count": 2,
     "metadata": {},
     "output_type": "execute_result"
    }
   ],
   "source": [
    "df = pd.read_csv('http://www.stat.uchicago.edu/~nicolae/118/data_2018.csv')\n",
    "df"
   ]
  },
  {
   "cell_type": "markdown",
   "metadata": {},
   "source": [
    "# Voter Turnout Analysis"
   ]
  },
  {
   "cell_type": "markdown",
   "metadata": {},
   "source": [
    "# How many people voted ?"
   ]
  },
  {
   "cell_type": "code",
   "execution_count": 3,
   "metadata": {},
   "outputs": [
    {
     "data": {
      "text/plain": [
       "2    48337\n",
       "1    24667\n",
       "Name: VOTED, dtype: int64"
      ]
     },
     "execution_count": 3,
     "metadata": {},
     "output_type": "execute_result"
    }
   ],
   "source": [
    "df[\"VOTED\"].value_counts()"
   ]
  },
  {
   "cell_type": "code",
   "execution_count": 4,
   "metadata": {},
   "outputs": [],
   "source": [
    "df.loc[df.VOTED == 1, \"VOTED\"] = 0"
   ]
  },
  {
   "cell_type": "code",
   "execution_count": 5,
   "metadata": {},
   "outputs": [],
   "source": [
    "df.loc[df.VOTED == 2, \"VOTED\"] = 1"
   ]
  },
  {
   "cell_type": "markdown",
   "metadata": {},
   "source": [
    "Above, we simply change the VOTED values to binary values (0 for didn't vote, 1 for did vote) to make it easier for us to compute averages."
   ]
  },
  {
   "cell_type": "code",
   "execution_count": 6,
   "metadata": {},
   "outputs": [
    {
     "data": {
      "text/plain": [
       "1    48337\n",
       "0    24667\n",
       "Name: VOTED, dtype: int64"
      ]
     },
     "execution_count": 6,
     "metadata": {},
     "output_type": "execute_result"
    }
   ],
   "source": [
    "df[\"VOTED\"].value_counts()"
   ]
  },
  {
   "cell_type": "markdown",
   "metadata": {},
   "source": [
    "Doing a value count on the VOTED column tells us that most people voted (~66%). Now what we can do is try to see for each age from 18-80, the percentage of individuals of that age that voted."
   ]
  },
  {
   "cell_type": "markdown",
   "metadata": {},
   "source": [
    "# What ages voted the most and the least ?"
   ]
  },
  {
   "cell_type": "code",
   "execution_count": 7,
   "metadata": {},
   "outputs": [],
   "source": [
    "df[\"Age Band\"] = pd.cut(df[\"AGE\"], 5, labels=[\"18-32\", \"32-44\", \"44-58\", \"58-72\", \"72-85\"])"
   ]
  },
  {
   "cell_type": "code",
   "execution_count": 8,
   "metadata": {},
   "outputs": [
    {
     "data": {
      "text/plain": [
       "44-58    17280\n",
       "58-72    16648\n",
       "32-44    14627\n",
       "18-32    14313\n",
       "72-85    10136\n",
       "Name: Age Band, dtype: int64"
      ]
     },
     "execution_count": 8,
     "metadata": {},
     "output_type": "execute_result"
    }
   ],
   "source": [
    "df[\"Age Band\"].value_counts()"
   ]
  },
  {
   "cell_type": "code",
   "execution_count": 9,
   "metadata": {},
   "outputs": [],
   "source": [
    "ageVotes = df[[\"Age Band\", \"VOTED\"]].groupby([\"Age Band\"], as_index=False).mean().sort_values(by=\"VOTED\",  ascending=False)"
   ]
  },
  {
   "cell_type": "code",
   "execution_count": 10,
   "metadata": {},
   "outputs": [],
   "source": [
    "ageVotes.set_index(\"Age Band\", drop=True, inplace=True)"
   ]
  },
  {
   "cell_type": "code",
   "execution_count": 11,
   "metadata": {},
   "outputs": [
    {
     "data": {
      "text/plain": [
       "<AxesSubplot:xlabel='Age Band'>"
      ]
     },
     "execution_count": 11,
     "metadata": {},
     "output_type": "execute_result"
    },
    {
     "data": {
      "image/png": "[encoded data removed]",
      "text/plain": [
       "<Figure size 432x288 with 1 Axes>"
      ]
     },
     "metadata": {},
     "output_type": "display_data"
    }
   ],
   "source": [
    "ageVotes.plot.bar()"
   ]
  },
  {
   "cell_type": "markdown",
   "metadata": {},
   "source": [
    "**As we can see from the above graph, those in the age range of 58 to 72 had the highest votership of almost 80%, whereas those in the age of 18 to 32 had the lowest voter turnout**"
   ]
  },
  {
   "cell_type": "markdown",
   "metadata": {},
   "source": [
    "# How does votership break down by race ?"
   ]
  },
  {
   "cell_type": "code",
   "execution_count": 12,
   "metadata": {},
   "outputs": [
    {
     "data": {
      "text/plain": [
       "100    60827\n",
       "200     7012\n",
       "651     2810\n",
       "300      908\n",
       "802      447\n",
       "652      268\n",
       "801      257\n",
       "803      205\n",
       "805       51\n",
       "804       51\n",
       "810       44\n",
       "809       38\n",
       "813       34\n",
       "806       13\n",
       "812       11\n",
       "808        5\n",
       "814        5\n",
       "817        5\n",
       "807        3\n",
       "811        3\n",
       "816        3\n",
       "815        2\n",
       "820        1\n",
       "830        1\n",
       "Name: RACE, dtype: int64"
      ]
     },
     "execution_count": 12,
     "metadata": {},
     "output_type": "execute_result"
    }
   ],
   "source": [
    "df[\"RACE\"].value_counts()"
   ]
  },
  {
   "cell_type": "markdown",
   "metadata": {},
   "source": [
    "We can already see that we have a large pool of values for the RACE feature that makes analysis tedious. To simplify our analysis, we will clean our data to focus on the following races: White (100), Black (200), Asian (651, 652) and Native American (300), and more than one race (801-830). Note that we can also use the RACESIMPLE feature to get this information without doing any further work, but for demonstration purposes, we will try cleaning the data ourselves. We will create this information in a column called *NEWRACE*."
   ]
  },
  {
   "cell_type": "code",
   "execution_count": 13,
   "metadata": {},
   "outputs": [],
   "source": [
    "df[\"NEWRACE\"] = df[\"RACE\"]\n",
    "df[\"NEWRACE\"] = df[\"NEWRACE\"].replace([100], \"White\")\n",
    "df[\"NEWRACE\"] = df[\"NEWRACE\"].replace([200], \"Black\")\n",
    "df[\"NEWRACE\"] = df[\"NEWRACE\"].replace([651, 652], \"Asian or Pacific Islander\")\n",
    "df[\"NEWRACE\"] = df[\"NEWRACE\"].replace([300], \"Native American\")\n",
    "df[\"NEWRACE\"] = df[\"NEWRACE\"].replace([801, 802, 803, 804, 805, 806, 807, 808, 809, 810, 811, 812, 813, 814, 815, 816, 817, 818, 819, 820, 830], \"More than one race\")"
   ]
  },
  {
   "cell_type": "code",
   "execution_count": 14,
   "metadata": {},
   "outputs": [
    {
     "data": {
      "text/html": [
       "<div>\n",
       "<style scoped>\n",
       "    .dataframe tbody tr th:only-of-type {\n",
       "        vertical-align: middle;\n",
       "    }\n",
       "\n",
       "    .dataframe tbody tr th {\n",
       "        vertical-align: top;\n",
       "    }\n",
       "\n",
       "    .dataframe thead th {\n",
       "        text-align: right;\n",
       "    }\n",
       "</style>\n",
       "<table border=\"1\" class=\"dataframe\">\n",
       "  <thead>\n",
       "    <tr style=\"text-align: right;\">\n",
       "      <th></th>\n",
       "      <th>VOTED</th>\n",
       "    </tr>\n",
       "    <tr>\n",
       "      <th>RACE</th>\n",
       "      <th></th>\n",
       "    </tr>\n",
       "  </thead>\n",
       "  <tbody>\n",
       "    <tr>\n",
       "      <th>Black</th>\n",
       "      <td>0.672847</td>\n",
       "    </tr>\n",
       "    <tr>\n",
       "      <th>White</th>\n",
       "      <td>0.670031</td>\n",
       "    </tr>\n",
       "    <tr>\n",
       "      <th>More than one race</th>\n",
       "      <td>0.604750</td>\n",
       "    </tr>\n",
       "    <tr>\n",
       "      <th>Asian or Pacific Islander</th>\n",
       "      <td>0.558155</td>\n",
       "    </tr>\n",
       "    <tr>\n",
       "      <th>Native American</th>\n",
       "      <td>0.475771</td>\n",
       "    </tr>\n",
       "  </tbody>\n",
       "</table>\n",
       "</div>"
      ],
      "text/plain": [
       "                              VOTED\n",
       "RACE                               \n",
       "Black                      0.672847\n",
       "White                      0.670031\n",
       "More than one race         0.604750\n",
       "Asian or Pacific Islander  0.558155\n",
       "Native American            0.475771"
      ]
     },
     "execution_count": 14,
     "metadata": {},
     "output_type": "execute_result"
    }
   ],
   "source": [
    "raceVotes = df[[\"NEWRACE\", \"VOTED\"]].groupby([\"NEWRACE\"], as_index=False).mean().sort_values(by=\"VOTED\", ascending=False)\n",
    "raceVotes.rename(columns={\"NEWRACE\": \"RACE\"}, inplace=True) #rename NEWRACE to clear ambigiouity\n",
    "raceVotes.set_index(\"RACE\", drop=True, inplace=True)\n",
    "raceVotes"
   ]
  },
  {
   "cell_type": "code",
   "execution_count": 15,
   "metadata": {},
   "outputs": [
    {
     "data": {
      "text/plain": [
       "<AxesSubplot:xlabel='RACE'>"
      ]
     },
     "execution_count": 15,
     "metadata": {},
     "output_type": "execute_result"
    },
    {
     "data": {
      "image/png": "[encoded data removed]",
      "text/plain": [
       "<Figure size 432x288 with 1 Axes>"
      ]
     },
     "metadata": {},
     "output_type": "display_data"
    }
   ],
   "source": [
    "raceVotes.plot.bar(color=\"green\")"
   ]
  },
  {
   "cell_type": "markdown",
   "metadata": {},
   "source": [
    "**We can conclude from our analysis of race that those who or Black and White are equally as likely to vote, each voting at about a 68% rate. Native Americans are the least likely to vote, with less than half of all Native Americans voting. Asian Americans also fall behind in votership, with 45% of their population abstaining from the polls. Those who hail from a background of more than one race are more likely to vote than Asian and Native Americans, but less likely than Black or White people.**"
   ]
  },
  {
   "cell_type": "markdown",
   "metadata": {},
   "source": [
    "## What does votership look like when considering Hispanic/Non-Hispanic ?"
   ]
  },
  {
   "cell_type": "markdown",
   "metadata": {},
   "source": [
    "As a corollary to race, we should also look at how many of those with a Hispanic background did not vote, as they are historically under-educated, and thus I predict their votership numbers are down in comparison to Non-Hispanics. 0 = Non-Hispanics, 1 = Hispanics"
   ]
  },
  {
   "cell_type": "code",
   "execution_count": 16,
   "metadata": {},
   "outputs": [
    {
     "data": {
      "text/plain": [
       "0    66371\n",
       "1     6633\n",
       "Name: HISPSIMPLE, dtype: int64"
      ]
     },
     "execution_count": 16,
     "metadata": {},
     "output_type": "execute_result"
    }
   ],
   "source": [
    "df[\"HISPSIMPLE\"].value_counts()"
   ]
  },
  {
   "cell_type": "code",
   "execution_count": 17,
   "metadata": {},
   "outputs": [
    {
     "data": {
      "text/html": [
       "<div>\n",
       "<style scoped>\n",
       "    .dataframe tbody tr th:only-of-type {\n",
       "        vertical-align: middle;\n",
       "    }\n",
       "\n",
       "    .dataframe tbody tr th {\n",
       "        vertical-align: top;\n",
       "    }\n",
       "\n",
       "    .dataframe thead th {\n",
       "        text-align: right;\n",
       "    }\n",
       "</style>\n",
       "<table border=\"1\" class=\"dataframe\">\n",
       "  <thead>\n",
       "    <tr style=\"text-align: right;\">\n",
       "      <th></th>\n",
       "      <th>Voted</th>\n",
       "    </tr>\n",
       "    <tr>\n",
       "      <th>Hispanic Ethnicity</th>\n",
       "      <th></th>\n",
       "    </tr>\n",
       "  </thead>\n",
       "  <tbody>\n",
       "    <tr>\n",
       "      <th>Not Hispanic</th>\n",
       "      <td>0.675280</td>\n",
       "    </tr>\n",
       "    <tr>\n",
       "      <th>Hispanic</th>\n",
       "      <td>0.530378</td>\n",
       "    </tr>\n",
       "  </tbody>\n",
       "</table>\n",
       "</div>"
      ],
      "text/plain": [
       "                       Voted\n",
       "Hispanic Ethnicity          \n",
       "Not Hispanic        0.675280\n",
       "Hispanic            0.530378"
      ]
     },
     "execution_count": 17,
     "metadata": {},
     "output_type": "execute_result"
    }
   ],
   "source": [
    "hispVotes = df[[\"HISPSIMPLE\", \"VOTED\"]].groupby([\"HISPSIMPLE\"], as_index=False).mean()\n",
    "hispVotes.rename(columns={\"HISPSIMPLE\": \"Hispanic Ethnicity\", \"VOTED\": \"Voted\"}, inplace=True)\n",
    "hispVotes.replace([0], \"Not Hispanic\", inplace=True)\n",
    "hispVotes.replace([1], \"Hispanic\", inplace=True)\n",
    "hispVotes.set_index(\"Hispanic Ethnicity\", drop=True, inplace=True)\n",
    "hispVotes"
   ]
  },
  {
   "cell_type": "code",
   "execution_count": 18,
   "metadata": {},
   "outputs": [
    {
     "data": {
      "text/plain": [
       "<AxesSubplot:xlabel='Hispanic Ethnicity'>"
      ]
     },
     "execution_count": 18,
     "metadata": {},
     "output_type": "execute_result"
    },
    {
     "data": {
      "image/png": "[encoded data removed]",
      "text/plain": [
       "<Figure size 432x288 with 1 Axes>"
      ]
     },
     "metadata": {},
     "output_type": "display_data"
    }
   ],
   "source": [
    "hispVotes.plot.bar(color=\"red\")"
   ]
  },
  {
   "cell_type": "markdown",
   "metadata": {},
   "source": [
    "**As I predicted, Hispanics were (14%) less likely to vote than their Non-Hispanic counterparts**"
   ]
  },
  {
   "cell_type": "markdown",
   "metadata": {},
   "source": [
    "# How does education affect votership ?"
   ]
  },
  {
   "cell_type": "code",
   "execution_count": 19,
   "metadata": {},
   "outputs": [
    {
     "data": {
      "text/plain": [
       "2    20722\n",
       "5    16018\n",
       "3    13586\n",
       "4     7809\n",
       "6     6884\n",
       "1     5436\n",
       "7     2449\n",
       "0      100\n",
       "Name: EDUSIMPLE, dtype: int64"
      ]
     },
     "execution_count": 19,
     "metadata": {},
     "output_type": "execute_result"
    }
   ],
   "source": [
    "df[\"EDUSIMPLE\"].value_counts()"
   ]
  },
  {
   "cell_type": "code",
   "execution_count": 20,
   "metadata": {},
   "outputs": [
    {
     "data": {
      "text/html": [
       "<div>\n",
       "<style scoped>\n",
       "    .dataframe tbody tr th:only-of-type {\n",
       "        vertical-align: middle;\n",
       "    }\n",
       "\n",
       "    .dataframe tbody tr th {\n",
       "        vertical-align: top;\n",
       "    }\n",
       "\n",
       "    .dataframe thead th {\n",
       "        text-align: right;\n",
       "    }\n",
       "</style>\n",
       "<table border=\"1\" class=\"dataframe\">\n",
       "  <thead>\n",
       "    <tr style=\"text-align: right;\">\n",
       "      <th></th>\n",
       "      <th>Voted</th>\n",
       "    </tr>\n",
       "    <tr>\n",
       "      <th>Level of Education</th>\n",
       "      <th></th>\n",
       "    </tr>\n",
       "  </thead>\n",
       "  <tbody>\n",
       "    <tr>\n",
       "      <th>Doctorate</th>\n",
       "      <td>0.870559</td>\n",
       "    </tr>\n",
       "    <tr>\n",
       "      <th>Masters</th>\n",
       "      <td>0.854736</td>\n",
       "    </tr>\n",
       "    <tr>\n",
       "      <th>Bachelors</th>\n",
       "      <td>0.795293</td>\n",
       "    </tr>\n",
       "    <tr>\n",
       "      <th>Associate</th>\n",
       "      <td>0.693687</td>\n",
       "    </tr>\n",
       "    <tr>\n",
       "      <th>Some college, no degree</th>\n",
       "      <td>0.653467</td>\n",
       "    </tr>\n",
       "    <tr>\n",
       "      <th>GED</th>\n",
       "      <td>0.543143</td>\n",
       "    </tr>\n",
       "    <tr>\n",
       "      <th>Some school, no diploma</th>\n",
       "      <td>0.368837</td>\n",
       "    </tr>\n",
       "    <tr>\n",
       "      <th>No School</th>\n",
       "      <td>0.270000</td>\n",
       "    </tr>\n",
       "  </tbody>\n",
       "</table>\n",
       "</div>"
      ],
      "text/plain": [
       "                            Voted\n",
       "Level of Education               \n",
       "Doctorate                0.870559\n",
       "Masters                  0.854736\n",
       "Bachelors                0.795293\n",
       "Associate                0.693687\n",
       "Some college, no degree  0.653467\n",
       "GED                      0.543143\n",
       "Some school, no diploma  0.368837\n",
       "No School                0.270000"
      ]
     },
     "execution_count": 20,
     "metadata": {},
     "output_type": "execute_result"
    }
   ],
   "source": [
    "df[\"NEWEDU\"] = df[\"EDUSIMPLE\"]\n",
    "df[\"NEWEDU\"].replace(0, \"No School\", inplace=True)\n",
    "df[\"NEWEDU\"].replace(1, \"Some school, no diploma\", inplace=True)\n",
    "df[\"NEWEDU\"].replace(2, \"GED\", inplace=True)\n",
    "df[\"NEWEDU\"].replace(3, \"Some college, no degree\", inplace=True)\n",
    "df[\"NEWEDU\"].replace(4, \"Associate\", inplace=True)\n",
    "df[\"NEWEDU\"].replace(5, \"Bachelors\", inplace=True)\n",
    "df[\"NEWEDU\"].replace(6, \"Masters\", inplace=True)\n",
    "df[\"NEWEDU\"].replace(7, \"Doctorate\", inplace=True)\n",
    "eduVotes = df[[\"NEWEDU\", \"VOTED\"]].groupby([\"NEWEDU\"], as_index=False).mean().sort_values(by=\"VOTED\", ascending=False)\n",
    "eduVotes.rename(columns={\"NEWEDU\": \"Level of Education\", \"VOTED\": \"Voted\"}, inplace=True)\n",
    "eduVotes.set_index(\"Level of Education\", drop=True, inplace=True)\n",
    "eduVotes"
   ]
  },
  {
   "cell_type": "code",
   "execution_count": 21,
   "metadata": {},
   "outputs": [
    {
     "data": {
      "text/plain": [
       "<AxesSubplot:xlabel='Level of Education'>"
      ]
     },
     "execution_count": 21,
     "metadata": {},
     "output_type": "execute_result"
    },
    {
     "data": {
      "image/png": "[encoded data removed]",
      "text/plain": [
       "<Figure size 432x288 with 1 Axes>"
      ]
     },
     "metadata": {},
     "output_type": "display_data"
    }
   ],
   "source": [
    "eduVotes.plot.bar()"
   ]
  },
  {
   "cell_type": "markdown",
   "metadata": {},
   "source": [
    "**As the level of education increases, voter turnout increases.**"
   ]
  },
  {
   "cell_type": "markdown",
   "metadata": {},
   "source": [
    "# Voter Registration Analysis"
   ]
  },
  {
   "cell_type": "markdown",
   "metadata": {},
   "source": [
    "So far, we've analyzed our data to draw a big picture of who voted at the polls using demographics such as age, race, ethnicity, and education. Next, we can start to form a big picture of whom actually registers, and doesn't register to vote, and why across key demographics. "
   ]
  },
  {
   "cell_type": "code",
   "execution_count": 22,
   "metadata": {},
   "outputs": [
    {
     "data": {
      "text/plain": [
       "99    60955\n",
       "6      5379\n",
       "9      2249\n",
       "1      1432\n",
       "4       737\n",
       "2       508\n",
       "7       476\n",
       "3       462\n",
       "97      456\n",
       "5       204\n",
       "96      133\n",
       "98       13\n",
       "Name: VOYNOTREG, dtype: int64"
      ]
     },
     "execution_count": 22,
     "metadata": {},
     "output_type": "execute_result"
    }
   ],
   "source": [
    "df[\"VOYNOTREG\"].value_counts()"
   ]
  },
  {
   "cell_type": "markdown",
   "metadata": {},
   "source": [
    "First, we will drop the 99 (not in universe) because these individuals did register and vote. We are interested in seeing who the people were **who did not vote, and why**."
   ]
  },
  {
   "cell_type": "code",
   "execution_count": 57,
   "metadata": {},
   "outputs": [],
   "source": [
    "df = df[df[\"VOYNOTREG\"] != 99]"
   ]
  },
  {
   "cell_type": "markdown",
   "metadata": {},
   "source": [
    "## One thing we can look it is, for each age group, what is the most popular reason for not voting ?"
   ]
  },
  {
   "cell_type": "code",
   "execution_count": 64,
   "metadata": {},
   "outputs": [
    {
     "data": {
      "text/html": [
       "<div>\n",
       "<style scoped>\n",
       "    .dataframe tbody tr th:only-of-type {\n",
       "        vertical-align: middle;\n",
       "    }\n",
       "\n",
       "    .dataframe tbody tr th {\n",
       "        vertical-align: top;\n",
       "    }\n",
       "\n",
       "    .dataframe thead th {\n",
       "        text-align: right;\n",
       "    }\n",
       "</style>\n",
       "<table border=\"1\" class=\"dataframe\">\n",
       "  <thead>\n",
       "    <tr style=\"text-align: right;\">\n",
       "      <th></th>\n",
       "      <th>Most popular reason for not voting</th>\n",
       "    </tr>\n",
       "    <tr>\n",
       "      <th>Age Band</th>\n",
       "      <th></th>\n",
       "    </tr>\n",
       "  </thead>\n",
       "  <tbody>\n",
       "    <tr>\n",
       "      <th>18-32</th>\n",
       "      <td>Not interested in politics or the election</td>\n",
       "    </tr>\n",
       "    <tr>\n",
       "      <th>32-44</th>\n",
       "      <td>Not interested in politics or the election</td>\n",
       "    </tr>\n",
       "    <tr>\n",
       "      <th>44-58</th>\n",
       "      <td>Not interested in politics or the election</td>\n",
       "    </tr>\n",
       "    <tr>\n",
       "      <th>58-72</th>\n",
       "      <td>Not interested in politics or the election</td>\n",
       "    </tr>\n",
       "    <tr>\n",
       "      <th>72-85</th>\n",
       "      <td>Not interested in politics or the election</td>\n",
       "    </tr>\n",
       "  </tbody>\n",
       "</table>\n",
       "</div>"
      ],
      "text/plain": [
       "                  Most popular reason for not voting\n",
       "Age Band                                            \n",
       "18-32     Not interested in politics or the election\n",
       "32-44     Not interested in politics or the election\n",
       "44-58     Not interested in politics or the election\n",
       "58-72     Not interested in politics or the election\n",
       "72-85     Not interested in politics or the election"
      ]
     },
     "execution_count": 64,
     "metadata": {},
     "output_type": "execute_result"
    }
   ],
   "source": [
    "whyNotVoteBasedOnAge = df[[\"Age Band\", \"VOYNOTREG\"]].groupby(\"Age Band\").agg(pd.Series.mode)\n",
    "whyNotVoteBasedOnAge.rename(columns={'VOYNOTREG': \"Most popular reason for not voting\"}, inplace=True)\n",
    "whyNotVoteBasedOnAge.replace([6], \"Not interested in politics or the election\", inplace=True)\n",
    "whyNotVoteBasedOnAge"
   ]
  },
  {
   "cell_type": "markdown",
   "metadata": {},
   "source": [
    "The most popular reason for not registering to vote *across all age bands* was **Not being interested in the election or politics**. So, the reason for not registering to vote did not vary across ages."
   ]
  },
  {
   "cell_type": "markdown",
   "metadata": {},
   "source": [
    "## Next, did the most popular reason that voters did not register vary across sex ?"
   ]
  },
  {
   "cell_type": "code",
   "execution_count": 70,
   "metadata": {},
   "outputs": [],
   "source": [
    "df.loc[df.SEX == 1, \"SEX\"] = \"Male\"\n",
    "df.loc[df.SEX == 2, \"SEX\"] = \"Female\""
   ]
  },
  {
   "cell_type": "code",
   "execution_count": 75,
   "metadata": {},
   "outputs": [
    {
     "data": {
      "text/html": [
       "<div>\n",
       "<style scoped>\n",
       "    .dataframe tbody tr th:only-of-type {\n",
       "        vertical-align: middle;\n",
       "    }\n",
       "\n",
       "    .dataframe tbody tr th {\n",
       "        vertical-align: top;\n",
       "    }\n",
       "\n",
       "    .dataframe thead th {\n",
       "        text-align: right;\n",
       "    }\n",
       "</style>\n",
       "<table border=\"1\" class=\"dataframe\">\n",
       "  <thead>\n",
       "    <tr style=\"text-align: right;\">\n",
       "      <th></th>\n",
       "      <th>Most popular reason for not voting</th>\n",
       "    </tr>\n",
       "    <tr>\n",
       "      <th>SEX</th>\n",
       "      <th></th>\n",
       "    </tr>\n",
       "  </thead>\n",
       "  <tbody>\n",
       "    <tr>\n",
       "      <th>Female</th>\n",
       "      <td>Not interested in politics or the election</td>\n",
       "    </tr>\n",
       "    <tr>\n",
       "      <th>Male</th>\n",
       "      <td>Not interested in politics or the election</td>\n",
       "    </tr>\n",
       "  </tbody>\n",
       "</table>\n",
       "</div>"
      ],
      "text/plain": [
       "                Most popular reason for not voting\n",
       "SEX                                               \n",
       "Female  Not interested in politics or the election\n",
       "Male    Not interested in politics or the election"
      ]
     },
     "execution_count": 75,
     "metadata": {},
     "output_type": "execute_result"
    }
   ],
   "source": [
    "whyNotVoteBasedOnSex = df[[\"SEX\", \"VOYNOTREG\"]].groupby(\"SEX\").agg(pd.Series.mode)\n",
    "whyNotVoteBasedOnSex.rename(columns={'VOYNOTREG': \"Most popular reason for not voting\"}, inplace=True)\n",
    "whyNotVoteBasedOnSex.replace([6], \"Not interested in politics or the election\", inplace=True)\n",
    "whyNotVoteBasedOnSex"
   ]
  },
  {
   "cell_type": "markdown",
   "metadata": {},
   "source": [
    "The most popular reason for not registering to vote **did not vary across genders**. Both most males and most females said they did not register to vote because they were not interested in the election or politics."
   ]
  },
  {
   "cell_type": "markdown",
   "metadata": {},
   "source": [
    "## Finally, look at the most popular reason for why people did not register to vote across RACE"
   ]
  }
 ],
 "metadata": {
  "kernelspec": {
   "display_name": "Python 3",
   "language": "python",
   "name": "python3"
  },
  "language_info": {
   "codemirror_mode": {
    "name": "ipython",
    "version": 3
   },
   "file_extension": ".py",
   "mimetype": "text/x-python",
   "name": "python",
   "nbconvert_exporter": "python",
   "pygments_lexer": "ipython3",
   "version": "3.8.5"
  }
 },
 "nbformat": 4,
 "nbformat_minor": 4
}
