{
 "cells": [
  {
   "cell_type": "code",
   "execution_count": 1,
   "metadata": {},
   "outputs": [],
   "source": [
    "import numpy as np\n",
    "from datascience import *\n",
    "\n",
    "%matplotlib inline\n",
    "import matplotlib.pyplot as plots\n",
    "plots.style.use('fivethirtyeight')\n",
    "import warnings\n",
    "warnings.simplefilter('ignore', FutureWarning)\n",
    "import pandas as pd"
   ]
  },
  {
   "cell_type": "code",
   "execution_count": 2,
   "metadata": {},
   "outputs": [
    {
     "data": {
      "text/html": [
       "<div>\n",
       "<style scoped>\n",
       "    .dataframe tbody tr th:only-of-type {\n",
       "        vertical-align: middle;\n",
       "    }\n",
       "\n",
       "    .dataframe tbody tr th {\n",
       "        vertical-align: top;\n",
       "    }\n",
       "\n",
       "    .dataframe thead th {\n",
       "        text-align: right;\n",
       "    }\n",
       "</style>\n",
       "<table border=\"1\" class=\"dataframe\">\n",
       "  <thead>\n",
       "    <tr style=\"text-align: right;\">\n",
       "      <th></th>\n",
       "      <th>YEAR</th>\n",
       "      <th>STATEFIP</th>\n",
       "      <th>METRO</th>\n",
       "      <th>AGE</th>\n",
       "      <th>SEX</th>\n",
       "      <th>RACE</th>\n",
       "      <th>MARST</th>\n",
       "      <th>VETSTAT</th>\n",
       "      <th>CITIZEN</th>\n",
       "      <th>HISPAN</th>\n",
       "      <th>...</th>\n",
       "      <th>VOTEHOW</th>\n",
       "      <th>VOTEWHEN</th>\n",
       "      <th>VOREGHOW</th>\n",
       "      <th>VOTED</th>\n",
       "      <th>VOREG</th>\n",
       "      <th>VOSUPPWT</th>\n",
       "      <th>MARRSIMPLE</th>\n",
       "      <th>RACESIMPLE</th>\n",
       "      <th>HISPSIMPLE</th>\n",
       "      <th>EDUSIMPLE</th>\n",
       "    </tr>\n",
       "  </thead>\n",
       "  <tbody>\n",
       "    <tr>\n",
       "      <td>0</td>\n",
       "      <td>2018</td>\n",
       "      <td>1</td>\n",
       "      <td>2</td>\n",
       "      <td>48</td>\n",
       "      <td>2</td>\n",
       "      <td>200</td>\n",
       "      <td>4</td>\n",
       "      <td>1</td>\n",
       "      <td>1</td>\n",
       "      <td>0</td>\n",
       "      <td>...</td>\n",
       "      <td>1</td>\n",
       "      <td>1</td>\n",
       "      <td>5</td>\n",
       "      <td>2</td>\n",
       "      <td>99</td>\n",
       "      <td>1957.3134</td>\n",
       "      <td>2</td>\n",
       "      <td>2</td>\n",
       "      <td>0</td>\n",
       "      <td>2</td>\n",
       "    </tr>\n",
       "    <tr>\n",
       "      <td>1</td>\n",
       "      <td>2018</td>\n",
       "      <td>1</td>\n",
       "      <td>2</td>\n",
       "      <td>53</td>\n",
       "      <td>2</td>\n",
       "      <td>200</td>\n",
       "      <td>4</td>\n",
       "      <td>1</td>\n",
       "      <td>1</td>\n",
       "      <td>0</td>\n",
       "      <td>...</td>\n",
       "      <td>1</td>\n",
       "      <td>1</td>\n",
       "      <td>3</td>\n",
       "      <td>2</td>\n",
       "      <td>99</td>\n",
       "      <td>1687.7836</td>\n",
       "      <td>2</td>\n",
       "      <td>2</td>\n",
       "      <td>0</td>\n",
       "      <td>3</td>\n",
       "    </tr>\n",
       "    <tr>\n",
       "      <td>2</td>\n",
       "      <td>2018</td>\n",
       "      <td>1</td>\n",
       "      <td>2</td>\n",
       "      <td>20</td>\n",
       "      <td>2</td>\n",
       "      <td>200</td>\n",
       "      <td>6</td>\n",
       "      <td>1</td>\n",
       "      <td>1</td>\n",
       "      <td>0</td>\n",
       "      <td>...</td>\n",
       "      <td>1</td>\n",
       "      <td>1</td>\n",
       "      <td>3</td>\n",
       "      <td>2</td>\n",
       "      <td>99</td>\n",
       "      <td>2678.8328</td>\n",
       "      <td>3</td>\n",
       "      <td>2</td>\n",
       "      <td>0</td>\n",
       "      <td>3</td>\n",
       "    </tr>\n",
       "    <tr>\n",
       "      <td>3</td>\n",
       "      <td>2018</td>\n",
       "      <td>1</td>\n",
       "      <td>2</td>\n",
       "      <td>61</td>\n",
       "      <td>1</td>\n",
       "      <td>200</td>\n",
       "      <td>1</td>\n",
       "      <td>2</td>\n",
       "      <td>1</td>\n",
       "      <td>0</td>\n",
       "      <td>...</td>\n",
       "      <td>1</td>\n",
       "      <td>1</td>\n",
       "      <td>5</td>\n",
       "      <td>2</td>\n",
       "      <td>99</td>\n",
       "      <td>1753.9945</td>\n",
       "      <td>1</td>\n",
       "      <td>2</td>\n",
       "      <td>0</td>\n",
       "      <td>3</td>\n",
       "    </tr>\n",
       "    <tr>\n",
       "      <td>4</td>\n",
       "      <td>2018</td>\n",
       "      <td>1</td>\n",
       "      <td>2</td>\n",
       "      <td>62</td>\n",
       "      <td>2</td>\n",
       "      <td>200</td>\n",
       "      <td>1</td>\n",
       "      <td>1</td>\n",
       "      <td>1</td>\n",
       "      <td>0</td>\n",
       "      <td>...</td>\n",
       "      <td>1</td>\n",
       "      <td>1</td>\n",
       "      <td>97</td>\n",
       "      <td>2</td>\n",
       "      <td>99</td>\n",
       "      <td>1778.5886</td>\n",
       "      <td>1</td>\n",
       "      <td>2</td>\n",
       "      <td>0</td>\n",
       "      <td>3</td>\n",
       "    </tr>\n",
       "    <tr>\n",
       "      <td>...</td>\n",
       "      <td>...</td>\n",
       "      <td>...</td>\n",
       "      <td>...</td>\n",
       "      <td>...</td>\n",
       "      <td>...</td>\n",
       "      <td>...</td>\n",
       "      <td>...</td>\n",
       "      <td>...</td>\n",
       "      <td>...</td>\n",
       "      <td>...</td>\n",
       "      <td>...</td>\n",
       "      <td>...</td>\n",
       "      <td>...</td>\n",
       "      <td>...</td>\n",
       "      <td>...</td>\n",
       "      <td>...</td>\n",
       "      <td>...</td>\n",
       "      <td>...</td>\n",
       "      <td>...</td>\n",
       "      <td>...</td>\n",
       "      <td>...</td>\n",
       "    </tr>\n",
       "    <tr>\n",
       "      <td>72999</td>\n",
       "      <td>2018</td>\n",
       "      <td>56</td>\n",
       "      <td>4</td>\n",
       "      <td>69</td>\n",
       "      <td>1</td>\n",
       "      <td>100</td>\n",
       "      <td>1</td>\n",
       "      <td>2</td>\n",
       "      <td>1</td>\n",
       "      <td>0</td>\n",
       "      <td>...</td>\n",
       "      <td>1</td>\n",
       "      <td>1</td>\n",
       "      <td>97</td>\n",
       "      <td>2</td>\n",
       "      <td>99</td>\n",
       "      <td>256.5947</td>\n",
       "      <td>1</td>\n",
       "      <td>1</td>\n",
       "      <td>0</td>\n",
       "      <td>4</td>\n",
       "    </tr>\n",
       "    <tr>\n",
       "      <td>73000</td>\n",
       "      <td>2018</td>\n",
       "      <td>56</td>\n",
       "      <td>4</td>\n",
       "      <td>60</td>\n",
       "      <td>2</td>\n",
       "      <td>100</td>\n",
       "      <td>1</td>\n",
       "      <td>1</td>\n",
       "      <td>1</td>\n",
       "      <td>0</td>\n",
       "      <td>...</td>\n",
       "      <td>1</td>\n",
       "      <td>1</td>\n",
       "      <td>97</td>\n",
       "      <td>2</td>\n",
       "      <td>99</td>\n",
       "      <td>226.8820</td>\n",
       "      <td>1</td>\n",
       "      <td>1</td>\n",
       "      <td>0</td>\n",
       "      <td>5</td>\n",
       "    </tr>\n",
       "    <tr>\n",
       "      <td>73001</td>\n",
       "      <td>2018</td>\n",
       "      <td>56</td>\n",
       "      <td>4</td>\n",
       "      <td>30</td>\n",
       "      <td>1</td>\n",
       "      <td>100</td>\n",
       "      <td>6</td>\n",
       "      <td>1</td>\n",
       "      <td>1</td>\n",
       "      <td>0</td>\n",
       "      <td>...</td>\n",
       "      <td>1</td>\n",
       "      <td>1</td>\n",
       "      <td>97</td>\n",
       "      <td>2</td>\n",
       "      <td>99</td>\n",
       "      <td>313.3757</td>\n",
       "      <td>3</td>\n",
       "      <td>1</td>\n",
       "      <td>0</td>\n",
       "      <td>6</td>\n",
       "    </tr>\n",
       "    <tr>\n",
       "      <td>73002</td>\n",
       "      <td>2018</td>\n",
       "      <td>56</td>\n",
       "      <td>4</td>\n",
       "      <td>56</td>\n",
       "      <td>1</td>\n",
       "      <td>100</td>\n",
       "      <td>6</td>\n",
       "      <td>2</td>\n",
       "      <td>1</td>\n",
       "      <td>0</td>\n",
       "      <td>...</td>\n",
       "      <td>1</td>\n",
       "      <td>2</td>\n",
       "      <td>7</td>\n",
       "      <td>2</td>\n",
       "      <td>99</td>\n",
       "      <td>265.6089</td>\n",
       "      <td>3</td>\n",
       "      <td>1</td>\n",
       "      <td>0</td>\n",
       "      <td>4</td>\n",
       "    </tr>\n",
       "    <tr>\n",
       "      <td>73003</td>\n",
       "      <td>2018</td>\n",
       "      <td>56</td>\n",
       "      <td>4</td>\n",
       "      <td>72</td>\n",
       "      <td>2</td>\n",
       "      <td>100</td>\n",
       "      <td>5</td>\n",
       "      <td>1</td>\n",
       "      <td>1</td>\n",
       "      <td>0</td>\n",
       "      <td>...</td>\n",
       "      <td>1</td>\n",
       "      <td>1</td>\n",
       "      <td>1</td>\n",
       "      <td>2</td>\n",
       "      <td>99</td>\n",
       "      <td>277.1607</td>\n",
       "      <td>2</td>\n",
       "      <td>1</td>\n",
       "      <td>0</td>\n",
       "      <td>2</td>\n",
       "    </tr>\n",
       "  </tbody>\n",
       "</table>\n",
       "<p>73004 rows × 28 columns</p>\n",
       "</div>"
      ],
      "text/plain": [
       "       YEAR  STATEFIP  METRO  AGE  SEX  RACE  MARST  VETSTAT  CITIZEN  HISPAN  \\\n",
       "0      2018         1      2   48    2   200      4        1        1       0   \n",
       "1      2018         1      2   53    2   200      4        1        1       0   \n",
       "2      2018         1      2   20    2   200      6        1        1       0   \n",
       "3      2018         1      2   61    1   200      1        2        1       0   \n",
       "4      2018         1      2   62    2   200      1        1        1       0   \n",
       "...     ...       ...    ...  ...  ...   ...    ...      ...      ...     ...   \n",
       "72999  2018        56      4   69    1   100      1        2        1       0   \n",
       "73000  2018        56      4   60    2   100      1        1        1       0   \n",
       "73001  2018        56      4   30    1   100      6        1        1       0   \n",
       "73002  2018        56      4   56    1   100      6        2        1       0   \n",
       "73003  2018        56      4   72    2   100      5        1        1       0   \n",
       "\n",
       "       ...  VOTEHOW  VOTEWHEN  VOREGHOW  VOTED  VOREG   VOSUPPWT  MARRSIMPLE  \\\n",
       "0      ...        1         1         5      2     99  1957.3134           2   \n",
       "1      ...        1         1         3      2     99  1687.7836           2   \n",
       "2      ...        1         1         3      2     99  2678.8328           3   \n",
       "3      ...        1         1         5      2     99  1753.9945           1   \n",
       "4      ...        1         1        97      2     99  1778.5886           1   \n",
       "...    ...      ...       ...       ...    ...    ...        ...         ...   \n",
       "72999  ...        1         1        97      2     99   256.5947           1   \n",
       "73000  ...        1         1        97      2     99   226.8820           1   \n",
       "73001  ...        1         1        97      2     99   313.3757           3   \n",
       "73002  ...        1         2         7      2     99   265.6089           3   \n",
       "73003  ...        1         1         1      2     99   277.1607           2   \n",
       "\n",
       "       RACESIMPLE  HISPSIMPLE  EDUSIMPLE  \n",
       "0               2           0          2  \n",
       "1               2           0          3  \n",
       "2               2           0          3  \n",
       "3               2           0          3  \n",
       "4               2           0          3  \n",
       "...           ...         ...        ...  \n",
       "72999           1           0          4  \n",
       "73000           1           0          5  \n",
       "73001           1           0          6  \n",
       "73002           1           0          4  \n",
       "73003           1           0          2  \n",
       "\n",
       "[73004 rows x 28 columns]"
      ]
     },
     "execution_count": 2,
     "metadata": {},
     "output_type": "execute_result"
    }
   ],
   "source": [
    "df = pd.read_csv('http://www.stat.uchicago.edu/~nicolae/118/data_2018.csv')\n",
    "df "
   ]
  },
  {
   "cell_type": "code",
   "execution_count": 3,
   "metadata": {},
   "outputs": [],
   "source": [
    "df[\"Age Band\"] = pd.cut(df[\"AGE\"], 5, labels=[\"18-32\", \"32-44\", \"44-58\", \"58-72\", \"72-85\"]) #CREATE AGE BAND FEATURE"
   ]
  },
  {
   "cell_type": "markdown",
   "metadata": {},
   "source": [
    "# Part A: Voter Registration Analysis"
   ]
  },
  {
   "cell_type": "markdown",
   "metadata": {},
   "source": [
    "So far, we've analyzed our data to draw a big picture of who voted at the polls using demographics such as age, race, ethnicity, and education. Next, we can start to form a big picture of whom actually registers, and doesn't register to vote, and why across key demographics."
   ]
  },
  {
   "cell_type": "code",
   "execution_count": 4,
   "metadata": {},
   "outputs": [
    {
     "data": {
      "text/plain": [
       "99    60955\n",
       "6      5379\n",
       "9      2249\n",
       "1      1432\n",
       "4       737\n",
       "2       508\n",
       "7       476\n",
       "3       462\n",
       "97      456\n",
       "5       204\n",
       "96      133\n",
       "98       13\n",
       "Name: VOYNOTREG, dtype: int64"
      ]
     },
     "execution_count": 4,
     "metadata": {},
     "output_type": "execute_result"
    }
   ],
   "source": [
    "df[\"VOYNOTREG\"].value_counts()"
   ]
  },
  {
   "cell_type": "markdown",
   "metadata": {},
   "source": [
    "First, we will drop the 99 (not in universe) because these individuals did register and vote. We are interested in seeing who the people were who did not vote, and why."
   ]
  },
  {
   "cell_type": "code",
   "execution_count": 5,
   "metadata": {},
   "outputs": [],
   "source": [
    "nvdf = df[df[\"VOYNOTREG\"] != 99] #not voted df"
   ]
  },
  {
   "cell_type": "markdown",
   "metadata": {},
   "source": [
    "# One thing we can look it is, for each age group, what is the most popular reason for not voting ?¶"
   ]
  },
  {
   "cell_type": "code",
   "execution_count": 6,
   "metadata": {},
   "outputs": [
    {
     "data": {
      "text/html": [
       "<div>\n",
       "<style scoped>\n",
       "    .dataframe tbody tr th:only-of-type {\n",
       "        vertical-align: middle;\n",
       "    }\n",
       "\n",
       "    .dataframe tbody tr th {\n",
       "        vertical-align: top;\n",
       "    }\n",
       "\n",
       "    .dataframe thead th {\n",
       "        text-align: right;\n",
       "    }\n",
       "</style>\n",
       "<table border=\"1\" class=\"dataframe\">\n",
       "  <thead>\n",
       "    <tr style=\"text-align: right;\">\n",
       "      <th></th>\n",
       "      <th>Most popular reason for not registering to vote</th>\n",
       "    </tr>\n",
       "    <tr>\n",
       "      <th>Age Band</th>\n",
       "      <th></th>\n",
       "    </tr>\n",
       "  </thead>\n",
       "  <tbody>\n",
       "    <tr>\n",
       "      <td>18-32</td>\n",
       "      <td>6</td>\n",
       "    </tr>\n",
       "    <tr>\n",
       "      <td>32-44</td>\n",
       "      <td>6</td>\n",
       "    </tr>\n",
       "    <tr>\n",
       "      <td>44-58</td>\n",
       "      <td>6</td>\n",
       "    </tr>\n",
       "    <tr>\n",
       "      <td>58-72</td>\n",
       "      <td>6</td>\n",
       "    </tr>\n",
       "    <tr>\n",
       "      <td>72-85</td>\n",
       "      <td>6</td>\n",
       "    </tr>\n",
       "  </tbody>\n",
       "</table>\n",
       "</div>"
      ],
      "text/plain": [
       "          Most popular reason for not registering to vote\n",
       "Age Band                                                 \n",
       "18-32                                                   6\n",
       "32-44                                                   6\n",
       "44-58                                                   6\n",
       "58-72                                                   6\n",
       "72-85                                                   6"
      ]
     },
     "execution_count": 6,
     "metadata": {},
     "output_type": "execute_result"
    }
   ],
   "source": [
    "whyNotVoteBasedOnAge = nvdf[[\"Age Band\", \"VOYNOTREG\"]].groupby(\"Age Band\").agg(pd.Series.mode)\n",
    "whyNotVoteBasedOnAge.rename(columns={'VOYNOTREG': \"Most popular reason for not registering to vote\"}, inplace=True)\n",
    "whyNotVoteBasedOnAge"
   ]
  },
  {
   "cell_type": "markdown",
   "metadata": {},
   "source": [
    "6 = not interested in politics or the election is the most frequent reason -->"
   ]
  },
  {
   "cell_type": "code",
   "execution_count": 7,
   "metadata": {},
   "outputs": [
    {
     "data": {
      "text/html": [
       "<div>\n",
       "<style scoped>\n",
       "    .dataframe tbody tr th:only-of-type {\n",
       "        vertical-align: middle;\n",
       "    }\n",
       "\n",
       "    .dataframe tbody tr th {\n",
       "        vertical-align: top;\n",
       "    }\n",
       "\n",
       "    .dataframe thead th {\n",
       "        text-align: right;\n",
       "    }\n",
       "</style>\n",
       "<table border=\"1\" class=\"dataframe\">\n",
       "  <thead>\n",
       "    <tr style=\"text-align: right;\">\n",
       "      <th></th>\n",
       "      <th>Most popular reason for not registering to vote</th>\n",
       "    </tr>\n",
       "    <tr>\n",
       "      <th>Age Band</th>\n",
       "      <th></th>\n",
       "    </tr>\n",
       "  </thead>\n",
       "  <tbody>\n",
       "    <tr>\n",
       "      <td>18-32</td>\n",
       "      <td>Not interested in politics or the election</td>\n",
       "    </tr>\n",
       "    <tr>\n",
       "      <td>32-44</td>\n",
       "      <td>Not interested in politics or the election</td>\n",
       "    </tr>\n",
       "    <tr>\n",
       "      <td>44-58</td>\n",
       "      <td>Not interested in politics or the election</td>\n",
       "    </tr>\n",
       "    <tr>\n",
       "      <td>58-72</td>\n",
       "      <td>Not interested in politics or the election</td>\n",
       "    </tr>\n",
       "    <tr>\n",
       "      <td>72-85</td>\n",
       "      <td>Not interested in politics or the election</td>\n",
       "    </tr>\n",
       "  </tbody>\n",
       "</table>\n",
       "</div>"
      ],
      "text/plain": [
       "         Most popular reason for not registering to vote\n",
       "Age Band                                                \n",
       "18-32         Not interested in politics or the election\n",
       "32-44         Not interested in politics or the election\n",
       "44-58         Not interested in politics or the election\n",
       "58-72         Not interested in politics or the election\n",
       "72-85         Not interested in politics or the election"
      ]
     },
     "execution_count": 7,
     "metadata": {},
     "output_type": "execute_result"
    }
   ],
   "source": [
    "whyNotVoteBasedOnAge.replace([6], \"Not interested in politics or the election\", inplace=True)\n",
    "whyNotVoteBasedOnAge"
   ]
  },
  {
   "cell_type": "markdown",
   "metadata": {},
   "source": [
    "The most popular reason for not registering to vote across all age bands was Not being interested in the election or politics. So, the reason for not registering to vote did not vary across ages."
   ]
  },
  {
   "cell_type": "markdown",
   "metadata": {},
   "source": [
    "# Next, what is the most popular reason that voters did not register vary across sex ?"
   ]
  },
  {
   "cell_type": "code",
   "execution_count": 57,
   "metadata": {},
   "outputs": [],
   "source": [
    "nvdf.loc[df.SEX == 1, \"SEX\"] = \"Male\"\n",
    "nvdf.loc[df.SEX == 2, \"SEX\"] = \"Female\""
   ]
  },
  {
   "cell_type": "code",
   "execution_count": 59,
   "metadata": {},
   "outputs": [
    {
     "ename": "NameError",
     "evalue": "name 'whyNotVoteBasedOnSexz' is not defined",
     "output_type": "error",
     "traceback": [
      "\u001b[0;31m---------------------------------------------------------------------------\u001b[0m",
      "\u001b[0;31mNameError\u001b[0m                                 Traceback (most recent call last)",
      "\u001b[0;32m<ipython-input-59-9940b2cd23e7>\u001b[0m in \u001b[0;36m<module>\u001b[0;34m\u001b[0m\n\u001b[1;32m      2\u001b[0m \u001b[0mwhyNotVoteBasedOnSex\u001b[0m\u001b[0;34m.\u001b[0m\u001b[0mrename\u001b[0m\u001b[0;34m(\u001b[0m\u001b[0mcolumns\u001b[0m\u001b[0;34m=\u001b[0m\u001b[0;34m{\u001b[0m\u001b[0;34m'VOYNOTREG'\u001b[0m\u001b[0;34m:\u001b[0m \u001b[0;34m\"Most popular reason for not registering to vote\"\u001b[0m\u001b[0;34m}\u001b[0m\u001b[0;34m,\u001b[0m \u001b[0minplace\u001b[0m\u001b[0;34m=\u001b[0m\u001b[0;32mTrue\u001b[0m\u001b[0;34m)\u001b[0m\u001b[0;34m\u001b[0m\u001b[0;34m\u001b[0m\u001b[0m\n\u001b[1;32m      3\u001b[0m \u001b[0mwhyNotVoteBasedOnSex\u001b[0m\u001b[0;34m.\u001b[0m\u001b[0mreplace\u001b[0m\u001b[0;34m(\u001b[0m\u001b[0;34m[\u001b[0m\u001b[0;36m6\u001b[0m\u001b[0;34m]\u001b[0m\u001b[0;34m,\u001b[0m \u001b[0;34m\"Not interested in politics or the election\"\u001b[0m\u001b[0;34m,\u001b[0m \u001b[0minplace\u001b[0m\u001b[0;34m=\u001b[0m\u001b[0;32mTrue\u001b[0m\u001b[0;34m)\u001b[0m\u001b[0;34m\u001b[0m\u001b[0;34m\u001b[0m\u001b[0m\n\u001b[0;32m----> 4\u001b[0;31m \u001b[0mwhyNotVoteBasedOnSexz\u001b[0m\u001b[0;34m\u001b[0m\u001b[0;34m\u001b[0m\u001b[0m\n\u001b[0m",
      "\u001b[0;31mNameError\u001b[0m: name 'whyNotVoteBasedOnSexz' is not defined"
     ]
    }
   ],
   "source": [
    "whyNotVoteBasedOnSex = nvdf[[\"SEX\", \"VOYNOTREG\"]].groupby(\"SEX\").agg(pd.Series.mode)\n",
    "whyNotVoteBasedOnSex.rename(columns={'VOYNOTREG': \"Most popular reason for not registering to vote\"}, inplace=True)\n",
    "whyNotVoteBasedOnSex.replace([6], \"Not interested in politics or the election\", inplace=True)\n",
    "whyNotVoteBasedOnSexz"
   ]
  },
  {
   "cell_type": "markdown",
   "metadata": {},
   "source": [
    "6 is also the most frequent reason for not voting across the genders "
   ]
  },
  {
   "cell_type": "code",
   "execution_count": 10,
   "metadata": {},
   "outputs": [
    {
     "data": {
      "text/html": [
       "<div>\n",
       "<style scoped>\n",
       "    .dataframe tbody tr th:only-of-type {\n",
       "        vertical-align: middle;\n",
       "    }\n",
       "\n",
       "    .dataframe tbody tr th {\n",
       "        vertical-align: top;\n",
       "    }\n",
       "\n",
       "    .dataframe thead th {\n",
       "        text-align: right;\n",
       "    }\n",
       "</style>\n",
       "<table border=\"1\" class=\"dataframe\">\n",
       "  <thead>\n",
       "    <tr style=\"text-align: right;\">\n",
       "      <th></th>\n",
       "      <th>Most popular reason for not voting</th>\n",
       "    </tr>\n",
       "    <tr>\n",
       "      <th>SEX</th>\n",
       "      <th></th>\n",
       "    </tr>\n",
       "  </thead>\n",
       "  <tbody>\n",
       "    <tr>\n",
       "      <td>Female</td>\n",
       "      <td>99</td>\n",
       "    </tr>\n",
       "    <tr>\n",
       "      <td>Male</td>\n",
       "      <td>99</td>\n",
       "    </tr>\n",
       "  </tbody>\n",
       "</table>\n",
       "</div>"
      ],
      "text/plain": [
       "        Most popular reason for not voting\n",
       "SEX                                       \n",
       "Female                                  99\n",
       "Male                                    99"
      ]
     },
     "execution_count": 10,
     "metadata": {},
     "output_type": "execute_result"
    }
   ],
   "source": [
    "whyNotVoteBasedOnSex.replace([6], \"Not interested in politics or the election\", inplace=True)\n",
    "whyNotVoteBasedOnSex"
   ]
  },
  {
   "cell_type": "markdown",
   "metadata": {},
   "source": [
    "The most popular reason for not registering to vote did not vary across genders. Both most males and most females said they did not register to vote because they were not interested in the election or politics"
   ]
  },
  {
   "cell_type": "markdown",
   "metadata": {},
   "source": [
    "# Finally, looking at the most popular reason for why people did not register to vote across RACE:"
   ]
  },
  {
   "cell_type": "code",
   "execution_count": 50,
   "metadata": {},
   "outputs": [
    {
     "data": {
      "text/html": [
       "<div>\n",
       "<style scoped>\n",
       "    .dataframe tbody tr th:only-of-type {\n",
       "        vertical-align: middle;\n",
       "    }\n",
       "\n",
       "    .dataframe tbody tr th {\n",
       "        vertical-align: top;\n",
       "    }\n",
       "\n",
       "    .dataframe thead th {\n",
       "        text-align: right;\n",
       "    }\n",
       "</style>\n",
       "<table border=\"1\" class=\"dataframe\">\n",
       "  <thead>\n",
       "    <tr style=\"text-align: right;\">\n",
       "      <th></th>\n",
       "      <th>Most popular reason for not voting</th>\n",
       "    </tr>\n",
       "    <tr>\n",
       "      <th>NEWRACE</th>\n",
       "      <th></th>\n",
       "    </tr>\n",
       "  </thead>\n",
       "  <tbody>\n",
       "    <tr>\n",
       "      <td>Asian or Pacific Islander</td>\n",
       "      <td>99</td>\n",
       "    </tr>\n",
       "    <tr>\n",
       "      <td>Black</td>\n",
       "      <td>99</td>\n",
       "    </tr>\n",
       "    <tr>\n",
       "      <td>More than one race</td>\n",
       "      <td>99</td>\n",
       "    </tr>\n",
       "    <tr>\n",
       "      <td>Native American</td>\n",
       "      <td>99</td>\n",
       "    </tr>\n",
       "    <tr>\n",
       "      <td>White</td>\n",
       "      <td>99</td>\n",
       "    </tr>\n",
       "  </tbody>\n",
       "</table>\n",
       "</div>"
      ],
      "text/plain": [
       "                           Most popular reason for not voting\n",
       "NEWRACE                                                      \n",
       "Asian or Pacific Islander                                  99\n",
       "Black                                                      99\n",
       "More than one race                                         99\n",
       "Native American                                            99\n",
       "White                                                      99"
      ]
     },
     "execution_count": 50,
     "metadata": {},
     "output_type": "execute_result"
    }
   ],
   "source": [
    "whyNotVoteBasedOnRace = df[[\"NEWRACE\", \"VOYNOTREG\"]].groupby(\"NEWRACE\").agg(pd.Series.mode)\n",
    "whyNotVoteBasedOnRace.rename(columns={'VOYNOTREG': \"Most popular reason for not voting\"}, inplace=True)\n",
    "whyNotVoteBasedOnRace"
   ]
  },
  {
   "cell_type": "markdown",
   "metadata": {},
   "source": [
    "The most popular reason for not registering to vote did not vary across races. All said they did not register to vote because they were not interested in the election or politics."
   ]
  },
  {
   "cell_type": "code",
   "execution_count": 13,
   "metadata": {},
   "outputs": [
    {
     "data": {
      "text/html": [
       "<div>\n",
       "<style scoped>\n",
       "    .dataframe tbody tr th:only-of-type {\n",
       "        vertical-align: middle;\n",
       "    }\n",
       "\n",
       "    .dataframe tbody tr th {\n",
       "        vertical-align: top;\n",
       "    }\n",
       "\n",
       "    .dataframe thead th {\n",
       "        text-align: right;\n",
       "    }\n",
       "</style>\n",
       "<table border=\"1\" class=\"dataframe\">\n",
       "  <thead>\n",
       "    <tr style=\"text-align: right;\">\n",
       "      <th></th>\n",
       "      <th>Most popular reason for not voting</th>\n",
       "    </tr>\n",
       "    <tr>\n",
       "      <th>RACESIMPLE</th>\n",
       "      <th></th>\n",
       "    </tr>\n",
       "  </thead>\n",
       "  <tbody>\n",
       "    <tr>\n",
       "      <td>1</td>\n",
       "      <td>99</td>\n",
       "    </tr>\n",
       "    <tr>\n",
       "      <td>2</td>\n",
       "      <td>99</td>\n",
       "    </tr>\n",
       "    <tr>\n",
       "      <td>3</td>\n",
       "      <td>99</td>\n",
       "    </tr>\n",
       "    <tr>\n",
       "      <td>4</td>\n",
       "      <td>99</td>\n",
       "    </tr>\n",
       "    <tr>\n",
       "      <td>5</td>\n",
       "      <td>99</td>\n",
       "    </tr>\n",
       "  </tbody>\n",
       "</table>\n",
       "</div>"
      ],
      "text/plain": [
       "            Most popular reason for not voting\n",
       "RACESIMPLE                                    \n",
       "1                                           99\n",
       "2                                           99\n",
       "3                                           99\n",
       "4                                           99\n",
       "5                                           99"
      ]
     },
     "execution_count": 13,
     "metadata": {},
     "output_type": "execute_result"
    }
   ],
   "source": [
    "whyNotVoteBasedOnRace.replace([6], \"Not interested in politics or the election\", inplace=True)\n",
    "whyNotVoteBasedOnRace"
   ]
  },
  {
   "cell_type": "markdown",
   "metadata": {},
   "source": [
    "# Voter Turnout Analysis: (Part B)"
   ]
  },
  {
   "cell_type": "markdown",
   "metadata": {},
   "source": [
    "# \"VOTED\" "
   ]
  },
  {
   "cell_type": "markdown",
   "metadata": {},
   "source": [
    "varied across the different factors. "
   ]
  },
  {
   "cell_type": "markdown",
   "metadata": {},
   "source": [
    "# How many people voted?"
   ]
  },
  {
   "cell_type": "code",
   "execution_count": 14,
   "metadata": {},
   "outputs": [
    {
     "data": {
      "text/plain": [
       "2    48337\n",
       "1    24667\n",
       "Name: VOTED, dtype: int64"
      ]
     },
     "execution_count": 14,
     "metadata": {},
     "output_type": "execute_result"
    }
   ],
   "source": [
    "df[\"VOTED\"].value_counts()"
   ]
  },
  {
   "cell_type": "code",
   "execution_count": 15,
   "metadata": {},
   "outputs": [],
   "source": [
    "#change the VOTED values to binary values (0 for didn't vote, 1 for did vote) to make it easier for us to compute averages."
   ]
  },
  {
   "cell_type": "code",
   "execution_count": 16,
   "metadata": {},
   "outputs": [],
   "source": [
    "df.loc[df.VOTED == 1, \"VOTED\"] = 0"
   ]
  },
  {
   "cell_type": "code",
   "execution_count": 17,
   "metadata": {},
   "outputs": [],
   "source": [
    "df.loc[df.VOTED == 2, \"VOTED\"] = 1"
   ]
  },
  {
   "cell_type": "markdown",
   "metadata": {},
   "source": [
    "# What ages voted the most and the least?"
   ]
  },
  {
   "cell_type": "code",
   "execution_count": 18,
   "metadata": {},
   "outputs": [],
   "source": [
    "df[\"Age Band\"] = pd.cut(df[\"AGE\"], 5)"
   ]
  },
  {
   "cell_type": "code",
   "execution_count": 19,
   "metadata": {},
   "outputs": [],
   "source": [
    "ageVotes = df[[\"Age Band\", \"VOTED\"]].groupby([\"Age Band\"], as_index=False).mean().sort_values(by=\"VOTED\",  ascending=False)"
   ]
  },
  {
   "cell_type": "code",
   "execution_count": 20,
   "metadata": {},
   "outputs": [],
   "source": [
    "ageVotes.set_index(\"Age Band\", drop=True, inplace=True)"
   ]
  },
  {
   "cell_type": "code",
   "execution_count": 21,
   "metadata": {},
   "outputs": [
    {
     "data": {
      "text/plain": [
       "Text(0.5, 1.0, 'Votership by Age Group')"
      ]
     },
     "execution_count": 21,
     "metadata": {},
     "output_type": "execute_result"
    },
    {
     "data": {
      "image/png": "[encoded data removed]",
      "text/plain": [
       "<Figure size 432x288 with 1 Axes>"
      ]
     },
     "metadata": {},
     "output_type": "display_data"
    }
   ],
   "source": [
    "ageVotesGraph = ageVotes.plot(color=\"red\")\n",
    "ageVotesGraph.set_ylabel(\"Percentage\")\n",
    "ageVotesGraph.set_title(\"Votership by Age Group\")"
   ]
  },
  {
   "cell_type": "markdown",
   "metadata": {},
   "source": [
    "As we can see from the above graph, those in the age range of 58 to 72 had the highest votership of almost 80%, whereas those in the age of 18 to 32 had the lowest voter turnout.negative correlation bewteen age group and votership\n",
    "\n",
    "Potential solutions: \n",
    "1. To increase voter turnout amongst the age group of 18-32 a possible solution could be to target college students in densely packed campuses by increasing education and awareness of the importance of voting by holding modules and education programs leading up to elections"
   ]
  },
  {
   "cell_type": "markdown",
   "metadata": {},
   "source": [
    "# How does votership break down by race ?"
   ]
  },
  {
   "cell_type": "code",
   "execution_count": 22,
   "metadata": {},
   "outputs": [
    {
     "data": {
      "text/plain": [
       "White                        60827\n",
       "Black                         7012\n",
       "Native American               3078\n",
       "More than one race            1179\n",
       "Asian or Pacific Islander      908\n",
       "Name: RACE, dtype: int64"
      ]
     },
     "execution_count": 22,
     "metadata": {},
     "output_type": "execute_result"
    }
   ],
   "source": [
    "df[\"RACE\"].value_counts()"
   ]
  },
  {
   "cell_type": "markdown",
   "metadata": {},
   "source": [
    "We can already see that we have a large pool of values for the RACE feature that makes analysis tedious. To simplify our analysis, we will clean our data to focus on the following races: White (100), Black (200), Asian (651, 652) and Native American (300), and more than one race (801-830). Note that we can also use the RACESIMPLE feature to get this information without doing any further work, but for demonstration purposes, we will try cleaning the data ourselves. We will create this information in a column called NEWRACE."
   ]
  },
  {
   "cell_type": "code",
   "execution_count": 23,
   "metadata": {},
   "outputs": [],
   "source": [
    "df[\"NEWRACE\"] = df[\"RACE\"]\n",
    "df[\"NEWRACE\"] = df[\"NEWRACE\"].replace([100], \"White\")\n",
    "df[\"NEWRACE\"] = df[\"NEWRACE\"].replace([200], \"Black\")\n",
    "df[\"NEWRACE\"] = df[\"NEWRACE\"].replace([651, 652], \"Asian or Pacific Islander\")\n",
    "df[\"NEWRACE\"] = df[\"NEWRACE\"].replace([300], \"Native American\")\n",
    "df[\"NEWRACE\"] = df[\"NEWRACE\"].replace([801, 802, 803, 804, 805, 806, 807, 808, 809, 810, 811, 812, 813, 814, 815, 816, 817, 818, 819, 820, 830], \"More than one race\")"
   ]
  },
  {
   "cell_type": "code",
   "execution_count": 24,
   "metadata": {},
   "outputs": [
    {
     "data": {
      "text/html": [
       "<div>\n",
       "<style scoped>\n",
       "    .dataframe tbody tr th:only-of-type {\n",
       "        vertical-align: middle;\n",
       "    }\n",
       "\n",
       "    .dataframe tbody tr th {\n",
       "        vertical-align: top;\n",
       "    }\n",
       "\n",
       "    .dataframe thead th {\n",
       "        text-align: right;\n",
       "    }\n",
       "</style>\n",
       "<table border=\"1\" class=\"dataframe\">\n",
       "  <thead>\n",
       "    <tr style=\"text-align: right;\">\n",
       "      <th></th>\n",
       "      <th>VOTED</th>\n",
       "    </tr>\n",
       "    <tr>\n",
       "      <th>RACE</th>\n",
       "      <th></th>\n",
       "    </tr>\n",
       "  </thead>\n",
       "  <tbody>\n",
       "    <tr>\n",
       "      <td>Black</td>\n",
       "      <td>0.672847</td>\n",
       "    </tr>\n",
       "    <tr>\n",
       "      <td>White</td>\n",
       "      <td>0.670031</td>\n",
       "    </tr>\n",
       "    <tr>\n",
       "      <td>More than one race</td>\n",
       "      <td>0.604750</td>\n",
       "    </tr>\n",
       "    <tr>\n",
       "      <td>Native American</td>\n",
       "      <td>0.558155</td>\n",
       "    </tr>\n",
       "    <tr>\n",
       "      <td>Asian or Pacific Islander</td>\n",
       "      <td>0.475771</td>\n",
       "    </tr>\n",
       "  </tbody>\n",
       "</table>\n",
       "</div>"
      ],
      "text/plain": [
       "                              VOTED\n",
       "RACE                               \n",
       "Black                      0.672847\n",
       "White                      0.670031\n",
       "More than one race         0.604750\n",
       "Native American            0.558155\n",
       "Asian or Pacific Islander  0.475771"
      ]
     },
     "execution_count": 24,
     "metadata": {},
     "output_type": "execute_result"
    }
   ],
   "source": [
    "raceVotes = df[[\"NEWRACE\", \"VOTED\"]].groupby([\"NEWRACE\"], as_index=False).mean().sort_values(by=\"VOTED\", ascending=False)\n",
    "raceVotes.rename(columns={\"NEWRACE\": \"RACE\"}, inplace=True) #rename NEWRACE to clear ambigiouity\n",
    "raceVotes.set_index(\"RACE\", drop=True, inplace=True)\n",
    "raceVotes"
   ]
  },
  {
   "cell_type": "code",
   "execution_count": 25,
   "metadata": {},
   "outputs": [
    {
     "data": {
      "text/plain": [
       "Text(0.5, 1.0, 'Votership by Race')"
      ]
     },
     "execution_count": 25,
     "metadata": {},
     "output_type": "execute_result"
    },
    {
     "data": {
      "image/png": "[encoded data removed]",
      "text/plain": [
       "<Figure size 432x288 with 1 Axes>"
      ]
     },
     "metadata": {},
     "output_type": "display_data"
    }
   ],
   "source": [
    "raceVotesGraph = raceVotes.plot.bar(color=\"green\")\n",
    "raceVotesGraph.set_ylabel(\"Pecentage\")\n",
    "raceVotesGraph.set_title(\"Votership by Race\")"
   ]
  },
  {
   "cell_type": "markdown",
   "metadata": {},
   "source": [
    "We can conclude from our analysis of race that those who or Black and White are equally as likely to vote, each voting at about a 68% rate. Native Americans are the least likely to vote, with less than half of all Native Americans voting. Asian Americans also fall behind in votership, with 45% of their population abstaining from the polls. Those who hail from a background of more than one race are more likely to vote than Asian and Native Americans, but less likely than Black or White people.\n",
    "\n",
    "Solutions: \n",
    " "
   ]
  },
  {
   "cell_type": "markdown",
   "metadata": {},
   "source": [
    "# What does votership look like when considering Hispanic/Non-Hispanic ?"
   ]
  },
  {
   "cell_type": "markdown",
   "metadata": {},
   "source": [
    "As a corollary to race, we should also look at how many of those with a Hispanic background did not vote, as they are historically under-educated, and thus I predict their votership numbers are down in comparison to Non-Hispanics. 0 = Non-Hispanics, 1 = Hispanics"
   ]
  },
  {
   "cell_type": "code",
   "execution_count": 26,
   "metadata": {},
   "outputs": [
    {
     "data": {
      "text/plain": [
       "0    66371\n",
       "1     6633\n",
       "Name: HISPSIMPLE, dtype: int64"
      ]
     },
     "execution_count": 26,
     "metadata": {},
     "output_type": "execute_result"
    }
   ],
   "source": [
    "df[\"HISPSIMPLE\"].value_counts()"
   ]
  },
  {
   "cell_type": "code",
   "execution_count": 27,
   "metadata": {},
   "outputs": [
    {
     "data": {
      "text/html": [
       "<div>\n",
       "<style scoped>\n",
       "    .dataframe tbody tr th:only-of-type {\n",
       "        vertical-align: middle;\n",
       "    }\n",
       "\n",
       "    .dataframe tbody tr th {\n",
       "        vertical-align: top;\n",
       "    }\n",
       "\n",
       "    .dataframe thead th {\n",
       "        text-align: right;\n",
       "    }\n",
       "</style>\n",
       "<table border=\"1\" class=\"dataframe\">\n",
       "  <thead>\n",
       "    <tr style=\"text-align: right;\">\n",
       "      <th></th>\n",
       "      <th>Voted</th>\n",
       "    </tr>\n",
       "    <tr>\n",
       "      <th>Hispanic Ethnicity</th>\n",
       "      <th></th>\n",
       "    </tr>\n",
       "  </thead>\n",
       "  <tbody>\n",
       "    <tr>\n",
       "      <td>Not Hispanic</td>\n",
       "      <td>0.675280</td>\n",
       "    </tr>\n",
       "    <tr>\n",
       "      <td>Hispanic</td>\n",
       "      <td>0.530378</td>\n",
       "    </tr>\n",
       "  </tbody>\n",
       "</table>\n",
       "</div>"
      ],
      "text/plain": [
       "                       Voted\n",
       "Hispanic Ethnicity          \n",
       "Not Hispanic        0.675280\n",
       "Hispanic            0.530378"
      ]
     },
     "execution_count": 27,
     "metadata": {},
     "output_type": "execute_result"
    }
   ],
   "source": [
    "hispVotes = df[[\"HISPSIMPLE\", \"VOTED\"]].groupby([\"HISPSIMPLE\"], as_index=False).mean()\n",
    "hispVotes.rename(columns={\"HISPSIMPLE\": \"Hispanic Ethnicity\", \"VOTED\": \"Voted\"}, inplace=True)\n",
    "hispVotes.replace([0], \"Not Hispanic\", inplace=True)\n",
    "hispVotes.replace([1], \"Hispanic\", inplace=True)\n",
    "hispVotes.set_index(\"Hispanic Ethnicity\", drop=True, inplace=True)\n",
    "hispVotes"
   ]
  },
  {
   "cell_type": "code",
   "execution_count": 28,
   "metadata": {},
   "outputs": [
    {
     "data": {
      "text/plain": [
       "Text(0.5, 1.0, 'Votership across Hispanic ethnicity')"
      ]
     },
     "execution_count": 28,
     "metadata": {},
     "output_type": "execute_result"
    },
    {
     "data": {
      "image/png": "[encoded data removed]",
      "text/plain": [
       "<Figure size 432x288 with 1 Axes>"
      ]
     },
     "metadata": {},
     "output_type": "display_data"
    }
   ],
   "source": [
    "hispVotesGraph = hispVotes.plot.bar(color=\"blue\")\n",
    "hispVotesGraph.set_ylabel(\"Pecentage\")\n",
    "hispVotesGraph.set_title(\"Votership across Hispanic ethnicity\")"
   ]
  },
  {
   "cell_type": "markdown",
   "metadata": {},
   "source": [
    "As predicted, Hispanics were (14%) less likely to vote than their Non-Hispanic counterparts\n",
    "\n",
    "Solutions: \n",
    "    1. "
   ]
  },
  {
   "cell_type": "markdown",
   "metadata": {},
   "source": [
    "# How does martial status affect votership?"
   ]
  },
  {
   "cell_type": "code",
   "execution_count": 29,
   "metadata": {},
   "outputs": [
    {
     "data": {
      "text/plain": [
       "1    41508\n",
       "3    17754\n",
       "2    13742\n",
       "Name: MARRSIMPLE, dtype: int64"
      ]
     },
     "execution_count": 29,
     "metadata": {},
     "output_type": "execute_result"
    }
   ],
   "source": [
    "df[\"MARRSIMPLE\"].value_counts()"
   ]
  },
  {
   "cell_type": "code",
   "execution_count": 30,
   "metadata": {},
   "outputs": [],
   "source": [
    "marrVotes = df[[\"MARRSIMPLE\", \"VOTED\"]].groupby([\"MARRSIMPLE\"], as_index=False).mean().sort_values(by=\"VOTED\",  ascending=False)"
   ]
  },
  {
   "cell_type": "code",
   "execution_count": 31,
   "metadata": {},
   "outputs": [],
   "source": [
    "marrVotes['MARRSIMPLE'].replace([1],'Married', inplace=True)\n",
    "marrVotes['MARRSIMPLE'].replace([2],'Divorced',inplace=True)\n",
    "marrVotes['MARRSIMPLE'].replace([3],'Single',inplace=True)"
   ]
  },
  {
   "cell_type": "code",
   "execution_count": 32,
   "metadata": {},
   "outputs": [],
   "source": [
    "marrVotes.set_index(\"MARRSIMPLE\", drop=True, inplace=True)"
   ]
  },
  {
   "cell_type": "code",
   "execution_count": 33,
   "metadata": {},
   "outputs": [
    {
     "data": {
      "text/plain": [
       "Text(0.5, 1.0, 'Votership across martial status')"
      ]
     },
     "execution_count": 33,
     "metadata": {},
     "output_type": "execute_result"
    },
    {
     "data": {
      "image/png": "[encoded data removed]",
      "text/plain": [
       "<Figure size 432x288 with 1 Axes>"
      ]
     },
     "metadata": {},
     "output_type": "display_data"
    }
   ],
   "source": [
    "marrVotesGraph = marrVotes.plot.bar(color=\"yellow\")\n",
    "marrVotesGraph.set_ylabel(\"Pecentage\")\n",
    "marrVotesGraph.set_title(\"Votership across martial status\")"
   ]
  },
  {
   "cell_type": "markdown",
   "metadata": {},
   "source": [
    "Married people are more than 73% likely to vote, only 52% are voting amongst young/single poeple --> room for improvement Divorced = 63% Solutions:\n",
    "\n",
    "People who are single are most likely younger --> target singles who are younger i.e. young professionals or students"
   ]
  },
  {
   "cell_type": "markdown",
   "metadata": {},
   "source": [
    "# \"VOTEWHEN\""
   ]
  },
  {
   "cell_type": "code",
   "execution_count": 34,
   "metadata": {},
   "outputs": [
    {
     "data": {
      "text/plain": [
       "1     30524\n",
       "99    24667\n",
       "2     17543\n",
       "97      149\n",
       "96       88\n",
       "98       33\n",
       "Name: VOTEWHEN, dtype: int64"
      ]
     },
     "execution_count": 34,
     "metadata": {},
     "output_type": "execute_result"
    }
   ],
   "source": [
    "df[\"VOTEWHEN\"].value_counts()"
   ]
  },
  {
   "cell_type": "code",
   "execution_count": 44,
   "metadata": {},
   "outputs": [],
   "source": [
    "vwdf = df[df[\"VOTEWHEN\"] < 3] # create a new dataframe from the original dataframe and assign it to a variable so we dont modify the original dataset. \n",
    "#Get all the data for those that voted on election day OR before election date.Z"
   ]
  },
  {
   "cell_type": "code",
   "execution_count": 36,
   "metadata": {},
   "outputs": [
    {
     "data": {
      "text/plain": [
       "1    30524\n",
       "2    17543\n",
       "Name: VOTEWHEN, dtype: int64"
      ]
     },
     "execution_count": 36,
     "metadata": {},
     "output_type": "execute_result"
    }
   ],
   "source": [
    "vwdf[\"VOTEWHEN\"].value_counts()"
   ]
  },
  {
   "cell_type": "markdown",
   "metadata": {},
   "source": [
    "# How does when an individual voted differ by age ?"
   ]
  },
  {
   "cell_type": "code",
   "execution_count": 47,
   "metadata": {},
   "outputs": [
    {
     "data": {
      "text/html": [
       "<div>\n",
       "<style scoped>\n",
       "    .dataframe tbody tr th:only-of-type {\n",
       "        vertical-align: middle;\n",
       "    }\n",
       "\n",
       "    .dataframe tbody tr th {\n",
       "        vertical-align: top;\n",
       "    }\n",
       "\n",
       "    .dataframe thead th {\n",
       "        text-align: right;\n",
       "    }\n",
       "</style>\n",
       "<table border=\"1\" class=\"dataframe\">\n",
       "  <thead>\n",
       "    <tr style=\"text-align: right;\">\n",
       "      <th></th>\n",
       "      <th>VOTEWHEN</th>\n",
       "    </tr>\n",
       "    <tr>\n",
       "      <th>Age Band</th>\n",
       "      <th></th>\n",
       "    </tr>\n",
       "  </thead>\n",
       "  <tbody>\n",
       "    <tr>\n",
       "      <td>(17.933, 31.4]</td>\n",
       "      <td>1</td>\n",
       "    </tr>\n",
       "    <tr>\n",
       "      <td>(31.4, 44.8]</td>\n",
       "      <td>1</td>\n",
       "    </tr>\n",
       "    <tr>\n",
       "      <td>(44.8, 58.2]</td>\n",
       "      <td>1</td>\n",
       "    </tr>\n",
       "    <tr>\n",
       "      <td>(58.2, 71.6]</td>\n",
       "      <td>1</td>\n",
       "    </tr>\n",
       "    <tr>\n",
       "      <td>(71.6, 85.0]</td>\n",
       "      <td>1</td>\n",
       "    </tr>\n",
       "  </tbody>\n",
       "</table>\n",
       "</div>"
      ],
      "text/plain": [
       "                VOTEWHEN\n",
       "Age Band                \n",
       "(17.933, 31.4]         1\n",
       "(31.4, 44.8]           1\n",
       "(44.8, 58.2]           1\n",
       "(58.2, 71.6]           1\n",
       "(71.6, 85.0]           1"
      ]
     },
     "execution_count": 47,
     "metadata": {},
     "output_type": "execute_result"
    }
   ],
   "source": [
    "vwdf[[\"Age Band\", \"VOTEWHEN\"]].groupby([\"Age Band\"]).agg(pd.Series.mode)"
   ]
  },
  {
   "cell_type": "markdown",
   "metadata": {},
   "source": [
    "Across all age groups, **most people voted on the day of the election.**"
   ]
  },
  {
   "cell_type": "markdown",
   "metadata": {},
   "source": [
    "# How does when an individual voted differ by race ?"
   ]
  },
  {
   "cell_type": "code",
   "execution_count": 49,
   "metadata": {},
   "outputs": [
    {
     "data": {
      "text/html": [
       "<div>\n",
       "<style scoped>\n",
       "    .dataframe tbody tr th:only-of-type {\n",
       "        vertical-align: middle;\n",
       "    }\n",
       "\n",
       "    .dataframe tbody tr th {\n",
       "        vertical-align: top;\n",
       "    }\n",
       "\n",
       "    .dataframe thead th {\n",
       "        text-align: right;\n",
       "    }\n",
       "</style>\n",
       "<table border=\"1\" class=\"dataframe\">\n",
       "  <thead>\n",
       "    <tr style=\"text-align: right;\">\n",
       "      <th></th>\n",
       "      <th>VOTEWHEN</th>\n",
       "    </tr>\n",
       "    <tr>\n",
       "      <th>NEWRACE</th>\n",
       "      <th></th>\n",
       "    </tr>\n",
       "  </thead>\n",
       "  <tbody>\n",
       "    <tr>\n",
       "      <td>Asian or Pacific Islander</td>\n",
       "      <td>1</td>\n",
       "    </tr>\n",
       "    <tr>\n",
       "      <td>Black</td>\n",
       "      <td>1</td>\n",
       "    </tr>\n",
       "    <tr>\n",
       "      <td>More than one race</td>\n",
       "      <td>1</td>\n",
       "    </tr>\n",
       "    <tr>\n",
       "      <td>Native American</td>\n",
       "      <td>1</td>\n",
       "    </tr>\n",
       "    <tr>\n",
       "      <td>White</td>\n",
       "      <td>1</td>\n",
       "    </tr>\n",
       "  </tbody>\n",
       "</table>\n",
       "</div>"
      ],
      "text/plain": [
       "                           VOTEWHEN\n",
       "NEWRACE                            \n",
       "Asian or Pacific Islander         1\n",
       "Black                             1\n",
       "More than one race                1\n",
       "Native American                   1\n",
       "White                             1"
      ]
     },
     "execution_count": 49,
     "metadata": {},
     "output_type": "execute_result"
    }
   ],
   "source": [
    "vwdf[[\"NEWRACE\", \"VOTEWHEN\"]].groupby([\"NEWRACE\"]).agg(pd.Series.mode)"
   ]
  },
  {
   "cell_type": "markdown",
   "metadata": {},
   "source": [
    "Across all races, most people voted on the day of the election."
   ]
  },
  {
   "cell_type": "markdown",
   "metadata": {},
   "source": [
    "# Voting by Education (Part C)"
   ]
  },
  {
   "cell_type": "markdown",
   "metadata": {},
   "source": [
    "# How does education affect votership ?"
   ]
  },
  {
   "cell_type": "code",
   "execution_count": 38,
   "metadata": {},
   "outputs": [
    {
     "data": {
      "text/plain": [
       "2    20722\n",
       "5    16018\n",
       "3    13586\n",
       "4     7809\n",
       "6     6884\n",
       "1     5436\n",
       "7     2449\n",
       "0      100\n",
       "Name: EDUSIMPLE, dtype: int64"
      ]
     },
     "execution_count": 38,
     "metadata": {},
     "output_type": "execute_result"
    }
   ],
   "source": [
    "df[\"EDUSIMPLE\"].value_counts()"
   ]
  },
  {
   "cell_type": "code",
   "execution_count": 39,
   "metadata": {},
   "outputs": [
    {
     "data": {
      "text/html": [
       "<div>\n",
       "<style scoped>\n",
       "    .dataframe tbody tr th:only-of-type {\n",
       "        vertical-align: middle;\n",
       "    }\n",
       "\n",
       "    .dataframe tbody tr th {\n",
       "        vertical-align: top;\n",
       "    }\n",
       "\n",
       "    .dataframe thead th {\n",
       "        text-align: right;\n",
       "    }\n",
       "</style>\n",
       "<table border=\"1\" class=\"dataframe\">\n",
       "  <thead>\n",
       "    <tr style=\"text-align: right;\">\n",
       "      <th></th>\n",
       "      <th>Voted</th>\n",
       "    </tr>\n",
       "    <tr>\n",
       "      <th>Level of Education</th>\n",
       "      <th></th>\n",
       "    </tr>\n",
       "  </thead>\n",
       "  <tbody>\n",
       "    <tr>\n",
       "      <td>Doctorate</td>\n",
       "      <td>0.870559</td>\n",
       "    </tr>\n",
       "    <tr>\n",
       "      <td>Masters</td>\n",
       "      <td>0.854736</td>\n",
       "    </tr>\n",
       "    <tr>\n",
       "      <td>Bachelors</td>\n",
       "      <td>0.795293</td>\n",
       "    </tr>\n",
       "    <tr>\n",
       "      <td>Associate</td>\n",
       "      <td>0.693687</td>\n",
       "    </tr>\n",
       "    <tr>\n",
       "      <td>Some college, no degree</td>\n",
       "      <td>0.653467</td>\n",
       "    </tr>\n",
       "    <tr>\n",
       "      <td>GED</td>\n",
       "      <td>0.543143</td>\n",
       "    </tr>\n",
       "    <tr>\n",
       "      <td>Some school, no diploma</td>\n",
       "      <td>0.368837</td>\n",
       "    </tr>\n",
       "    <tr>\n",
       "      <td>No School</td>\n",
       "      <td>0.270000</td>\n",
       "    </tr>\n",
       "  </tbody>\n",
       "</table>\n",
       "</div>"
      ],
      "text/plain": [
       "                            Voted\n",
       "Level of Education               \n",
       "Doctorate                0.870559\n",
       "Masters                  0.854736\n",
       "Bachelors                0.795293\n",
       "Associate                0.693687\n",
       "Some college, no degree  0.653467\n",
       "GED                      0.543143\n",
       "Some school, no diploma  0.368837\n",
       "No School                0.270000"
      ]
     },
     "execution_count": 39,
     "metadata": {},
     "output_type": "execute_result"
    }
   ],
   "source": [
    "df[\"NEWEDU\"] = df[\"EDUSIMPLE\"]\n",
    "df[\"NEWEDU\"].replace(0, \"No School\", inplace=True)\n",
    "df[\"NEWEDU\"].replace(1, \"Some school, no diploma\", inplace=True)\n",
    "df[\"NEWEDU\"].replace(2, \"GED\", inplace=True)\n",
    "df[\"NEWEDU\"].replace(3, \"Some college, no degree\", inplace=True)\n",
    "df[\"NEWEDU\"].replace(4, \"Associate\", inplace=True)\n",
    "df[\"NEWEDU\"].replace(5, \"Bachelors\", inplace=True)\n",
    "df[\"NEWEDU\"].replace(6, \"Masters\", inplace=True)\n",
    "df[\"NEWEDU\"].replace(7, \"Doctorate\", inplace=True)\n",
    "eduVotes = df[[\"NEWEDU\", \"VOTED\"]].groupby([\"NEWEDU\"], as_index=False).mean().sort_values(by=\"VOTED\", ascending=False)\n",
    "eduVotes.rename(columns={\"NEWEDU\": \"Level of Education\", \"VOTED\": \"Voted\"}, inplace=True)\n",
    "eduVotes.set_index(\"Level of Education\", drop=True, inplace=True)\n",
    "eduVotes"
   ]
  },
  {
   "cell_type": "code",
   "execution_count": 40,
   "metadata": {
    "scrolled": true
   },
   "outputs": [
    {
     "data": {
      "text/plain": [
       "Text(0.5, 1.0, 'Votership across education levels')"
      ]
     },
     "execution_count": 40,
     "metadata": {},
     "output_type": "execute_result"
    },
    {
     "data": {
      "image/png": "[encoded data removed]",
      "text/plain": [
       "<Figure size 432x288 with 1 Axes>"
      ]
     },
     "metadata": {},
     "output_type": "display_data"
    }
   ],
   "source": [
    "eduVotesGraph = eduVotes.plot.bar(color=\"orange\")\n",
    "eduVotesGraph.set_ylabel(\"Pecentage\")\n",
    "eduVotesGraph.set_title(\"Votership across education levels\")"
   ]
  },
  {
   "cell_type": "markdown",
   "metadata": {},
   "source": [
    "As the level of education increases, voter turnout increases.\n",
    "\n",
    "Solutions: \n",
    "    1. focus on people who do a majority of unskilled labor i.e. blue collar workers (fastfood workers etc.) (bc probably less educated) and less on white collar workers i.e. professors, engineers etc. "
   ]
  },
  {
   "cell_type": "markdown",
   "metadata": {},
   "source": [
    "# How does education influence the reasons for not voting?"
   ]
  },
  {
   "cell_type": "code",
   "execution_count": 41,
   "metadata": {
    "scrolled": true
   },
   "outputs": [
    {
     "data": {
      "text/html": [
       "<div>\n",
       "<style scoped>\n",
       "    .dataframe tbody tr th:only-of-type {\n",
       "        vertical-align: middle;\n",
       "    }\n",
       "\n",
       "    .dataframe tbody tr th {\n",
       "        vertical-align: top;\n",
       "    }\n",
       "\n",
       "    .dataframe thead th {\n",
       "        text-align: right;\n",
       "    }\n",
       "</style>\n",
       "<table border=\"1\" class=\"dataframe\">\n",
       "  <thead>\n",
       "    <tr style=\"text-align: right;\">\n",
       "      <th></th>\n",
       "      <th>YEAR</th>\n",
       "      <th>STATEFIP</th>\n",
       "      <th>METRO</th>\n",
       "      <th>AGE</th>\n",
       "      <th>SEX</th>\n",
       "      <th>RACE</th>\n",
       "      <th>MARST</th>\n",
       "      <th>VETSTAT</th>\n",
       "      <th>CITIZEN</th>\n",
       "      <th>HISPAN</th>\n",
       "      <th>...</th>\n",
       "      <th>VOTED</th>\n",
       "      <th>VOREG</th>\n",
       "      <th>VOSUPPWT</th>\n",
       "      <th>MARRSIMPLE</th>\n",
       "      <th>RACESIMPLE</th>\n",
       "      <th>HISPSIMPLE</th>\n",
       "      <th>EDUSIMPLE</th>\n",
       "      <th>Age Band</th>\n",
       "      <th>NEWRACE</th>\n",
       "      <th>NEWEDU</th>\n",
       "    </tr>\n",
       "  </thead>\n",
       "  <tbody>\n",
       "    <tr>\n",
       "      <td>10</td>\n",
       "      <td>2018</td>\n",
       "      <td>1</td>\n",
       "      <td>2</td>\n",
       "      <td>76</td>\n",
       "      <td>Female</td>\n",
       "      <td>Black</td>\n",
       "      <td>1</td>\n",
       "      <td>1</td>\n",
       "      <td>1</td>\n",
       "      <td>0</td>\n",
       "      <td>...</td>\n",
       "      <td>0</td>\n",
       "      <td>1</td>\n",
       "      <td>1427.0079</td>\n",
       "      <td>1</td>\n",
       "      <td>2</td>\n",
       "      <td>0</td>\n",
       "      <td>1</td>\n",
       "      <td>(71.6, 85.0]</td>\n",
       "      <td>Black</td>\n",
       "      <td>Some school, no diploma</td>\n",
       "    </tr>\n",
       "    <tr>\n",
       "      <td>52</td>\n",
       "      <td>2018</td>\n",
       "      <td>1</td>\n",
       "      <td>2</td>\n",
       "      <td>76</td>\n",
       "      <td>Female</td>\n",
       "      <td>White</td>\n",
       "      <td>4</td>\n",
       "      <td>1</td>\n",
       "      <td>1</td>\n",
       "      <td>0</td>\n",
       "      <td>...</td>\n",
       "      <td>0</td>\n",
       "      <td>1</td>\n",
       "      <td>1820.1696</td>\n",
       "      <td>2</td>\n",
       "      <td>1</td>\n",
       "      <td>0</td>\n",
       "      <td>2</td>\n",
       "      <td>(71.6, 85.0]</td>\n",
       "      <td>White</td>\n",
       "      <td>GED</td>\n",
       "    </tr>\n",
       "    <tr>\n",
       "      <td>71</td>\n",
       "      <td>2018</td>\n",
       "      <td>1</td>\n",
       "      <td>2</td>\n",
       "      <td>21</td>\n",
       "      <td>Male</td>\n",
       "      <td>White</td>\n",
       "      <td>6</td>\n",
       "      <td>1</td>\n",
       "      <td>1</td>\n",
       "      <td>100</td>\n",
       "      <td>...</td>\n",
       "      <td>0</td>\n",
       "      <td>1</td>\n",
       "      <td>1818.1702</td>\n",
       "      <td>3</td>\n",
       "      <td>1</td>\n",
       "      <td>1</td>\n",
       "      <td>4</td>\n",
       "      <td>(17.933, 31.4]</td>\n",
       "      <td>White</td>\n",
       "      <td>Associate</td>\n",
       "    </tr>\n",
       "    <tr>\n",
       "      <td>72</td>\n",
       "      <td>2018</td>\n",
       "      <td>1</td>\n",
       "      <td>2</td>\n",
       "      <td>19</td>\n",
       "      <td>Female</td>\n",
       "      <td>White</td>\n",
       "      <td>6</td>\n",
       "      <td>1</td>\n",
       "      <td>1</td>\n",
       "      <td>100</td>\n",
       "      <td>...</td>\n",
       "      <td>0</td>\n",
       "      <td>1</td>\n",
       "      <td>1741.3746</td>\n",
       "      <td>3</td>\n",
       "      <td>1</td>\n",
       "      <td>1</td>\n",
       "      <td>2</td>\n",
       "      <td>(17.933, 31.4]</td>\n",
       "      <td>White</td>\n",
       "      <td>GED</td>\n",
       "    </tr>\n",
       "    <tr>\n",
       "      <td>89</td>\n",
       "      <td>2018</td>\n",
       "      <td>1</td>\n",
       "      <td>2</td>\n",
       "      <td>26</td>\n",
       "      <td>Female</td>\n",
       "      <td>Black</td>\n",
       "      <td>6</td>\n",
       "      <td>1</td>\n",
       "      <td>1</td>\n",
       "      <td>0</td>\n",
       "      <td>...</td>\n",
       "      <td>0</td>\n",
       "      <td>1</td>\n",
       "      <td>2474.3503</td>\n",
       "      <td>3</td>\n",
       "      <td>2</td>\n",
       "      <td>0</td>\n",
       "      <td>5</td>\n",
       "      <td>(17.933, 31.4]</td>\n",
       "      <td>Black</td>\n",
       "      <td>Bachelors</td>\n",
       "    </tr>\n",
       "    <tr>\n",
       "      <td>...</td>\n",
       "      <td>...</td>\n",
       "      <td>...</td>\n",
       "      <td>...</td>\n",
       "      <td>...</td>\n",
       "      <td>...</td>\n",
       "      <td>...</td>\n",
       "      <td>...</td>\n",
       "      <td>...</td>\n",
       "      <td>...</td>\n",
       "      <td>...</td>\n",
       "      <td>...</td>\n",
       "      <td>...</td>\n",
       "      <td>...</td>\n",
       "      <td>...</td>\n",
       "      <td>...</td>\n",
       "      <td>...</td>\n",
       "      <td>...</td>\n",
       "      <td>...</td>\n",
       "      <td>...</td>\n",
       "      <td>...</td>\n",
       "      <td>...</td>\n",
       "    </tr>\n",
       "    <tr>\n",
       "      <td>72981</td>\n",
       "      <td>2018</td>\n",
       "      <td>56</td>\n",
       "      <td>4</td>\n",
       "      <td>58</td>\n",
       "      <td>Male</td>\n",
       "      <td>White</td>\n",
       "      <td>6</td>\n",
       "      <td>1</td>\n",
       "      <td>1</td>\n",
       "      <td>0</td>\n",
       "      <td>...</td>\n",
       "      <td>0</td>\n",
       "      <td>1</td>\n",
       "      <td>341.9449</td>\n",
       "      <td>3</td>\n",
       "      <td>1</td>\n",
       "      <td>0</td>\n",
       "      <td>1</td>\n",
       "      <td>(44.8, 58.2]</td>\n",
       "      <td>White</td>\n",
       "      <td>Some school, no diploma</td>\n",
       "    </tr>\n",
       "    <tr>\n",
       "      <td>72983</td>\n",
       "      <td>2018</td>\n",
       "      <td>56</td>\n",
       "      <td>4</td>\n",
       "      <td>28</td>\n",
       "      <td>Female</td>\n",
       "      <td>White</td>\n",
       "      <td>1</td>\n",
       "      <td>1</td>\n",
       "      <td>1</td>\n",
       "      <td>0</td>\n",
       "      <td>...</td>\n",
       "      <td>0</td>\n",
       "      <td>1</td>\n",
       "      <td>341.3270</td>\n",
       "      <td>1</td>\n",
       "      <td>1</td>\n",
       "      <td>0</td>\n",
       "      <td>1</td>\n",
       "      <td>(17.933, 31.4]</td>\n",
       "      <td>White</td>\n",
       "      <td>Some school, no diploma</td>\n",
       "    </tr>\n",
       "    <tr>\n",
       "      <td>72990</td>\n",
       "      <td>2018</td>\n",
       "      <td>56</td>\n",
       "      <td>4</td>\n",
       "      <td>52</td>\n",
       "      <td>Female</td>\n",
       "      <td>White</td>\n",
       "      <td>1</td>\n",
       "      <td>1</td>\n",
       "      <td>1</td>\n",
       "      <td>0</td>\n",
       "      <td>...</td>\n",
       "      <td>0</td>\n",
       "      <td>1</td>\n",
       "      <td>255.0748</td>\n",
       "      <td>1</td>\n",
       "      <td>1</td>\n",
       "      <td>0</td>\n",
       "      <td>6</td>\n",
       "      <td>(44.8, 58.2]</td>\n",
       "      <td>White</td>\n",
       "      <td>Masters</td>\n",
       "    </tr>\n",
       "    <tr>\n",
       "      <td>72991</td>\n",
       "      <td>2018</td>\n",
       "      <td>56</td>\n",
       "      <td>4</td>\n",
       "      <td>57</td>\n",
       "      <td>Male</td>\n",
       "      <td>White</td>\n",
       "      <td>1</td>\n",
       "      <td>1</td>\n",
       "      <td>1</td>\n",
       "      <td>0</td>\n",
       "      <td>...</td>\n",
       "      <td>0</td>\n",
       "      <td>1</td>\n",
       "      <td>278.4728</td>\n",
       "      <td>1</td>\n",
       "      <td>1</td>\n",
       "      <td>0</td>\n",
       "      <td>5</td>\n",
       "      <td>(44.8, 58.2]</td>\n",
       "      <td>White</td>\n",
       "      <td>Bachelors</td>\n",
       "    </tr>\n",
       "    <tr>\n",
       "      <td>72998</td>\n",
       "      <td>2018</td>\n",
       "      <td>56</td>\n",
       "      <td>4</td>\n",
       "      <td>27</td>\n",
       "      <td>Male</td>\n",
       "      <td>White</td>\n",
       "      <td>6</td>\n",
       "      <td>2</td>\n",
       "      <td>1</td>\n",
       "      <td>0</td>\n",
       "      <td>...</td>\n",
       "      <td>0</td>\n",
       "      <td>1</td>\n",
       "      <td>296.5050</td>\n",
       "      <td>3</td>\n",
       "      <td>1</td>\n",
       "      <td>0</td>\n",
       "      <td>4</td>\n",
       "      <td>(17.933, 31.4]</td>\n",
       "      <td>White</td>\n",
       "      <td>Associate</td>\n",
       "    </tr>\n",
       "  </tbody>\n",
       "</table>\n",
       "<p>11447 rows × 31 columns</p>\n",
       "</div>"
      ],
      "text/plain": [
       "       YEAR  STATEFIP  METRO  AGE     SEX   RACE  MARST  VETSTAT  CITIZEN  \\\n",
       "10     2018         1      2   76  Female  Black      1        1        1   \n",
       "52     2018         1      2   76  Female  White      4        1        1   \n",
       "71     2018         1      2   21    Male  White      6        1        1   \n",
       "72     2018         1      2   19  Female  White      6        1        1   \n",
       "89     2018         1      2   26  Female  Black      6        1        1   \n",
       "...     ...       ...    ...  ...     ...    ...    ...      ...      ...   \n",
       "72981  2018        56      4   58    Male  White      6        1        1   \n",
       "72983  2018        56      4   28  Female  White      1        1        1   \n",
       "72990  2018        56      4   52  Female  White      1        1        1   \n",
       "72991  2018        56      4   57    Male  White      1        1        1   \n",
       "72998  2018        56      4   27    Male  White      6        2        1   \n",
       "\n",
       "       HISPAN  ...  VOTED  VOREG   VOSUPPWT  MARRSIMPLE  RACESIMPLE  \\\n",
       "10          0  ...      0      1  1427.0079           1           2   \n",
       "52          0  ...      0      1  1820.1696           2           1   \n",
       "71        100  ...      0      1  1818.1702           3           1   \n",
       "72        100  ...      0      1  1741.3746           3           1   \n",
       "89          0  ...      0      1  2474.3503           3           2   \n",
       "...       ...  ...    ...    ...        ...         ...         ...   \n",
       "72981       0  ...      0      1   341.9449           3           1   \n",
       "72983       0  ...      0      1   341.3270           1           1   \n",
       "72990       0  ...      0      1   255.0748           1           1   \n",
       "72991       0  ...      0      1   278.4728           1           1   \n",
       "72998       0  ...      0      1   296.5050           3           1   \n",
       "\n",
       "       HISPSIMPLE  EDUSIMPLE        Age Band  NEWRACE                   NEWEDU  \n",
       "10              0          1    (71.6, 85.0]    Black  Some school, no diploma  \n",
       "52              0          2    (71.6, 85.0]    White                      GED  \n",
       "71              1          4  (17.933, 31.4]    White                Associate  \n",
       "72              1          2  (17.933, 31.4]    White                      GED  \n",
       "89              0          5  (17.933, 31.4]    Black                Bachelors  \n",
       "...           ...        ...             ...      ...                      ...  \n",
       "72981           0          1    (44.8, 58.2]    White  Some school, no diploma  \n",
       "72983           0          1  (17.933, 31.4]    White  Some school, no diploma  \n",
       "72990           0          6    (44.8, 58.2]    White                  Masters  \n",
       "72991           0          5    (44.8, 58.2]    White                Bachelors  \n",
       "72998           0          4  (17.933, 31.4]    White                Associate  \n",
       "\n",
       "[11447 rows x 31 columns]"
      ]
     },
     "execution_count": 41,
     "metadata": {},
     "output_type": "execute_result"
    }
   ],
   "source": [
    " #to remove all nulls and not in universe\n",
    "whyNotVoteBasedOnEdu = df[df[\"VOYNOTREG\"] < 96]\n",
    "whyNotVoteBasedOnEdu"
   ]
  },
  {
   "cell_type": "code",
   "execution_count": 42,
   "metadata": {},
   "outputs": [
    {
     "data": {
      "text/html": [
       "<div>\n",
       "<style scoped>\n",
       "    .dataframe tbody tr th:only-of-type {\n",
       "        vertical-align: middle;\n",
       "    }\n",
       "\n",
       "    .dataframe tbody tr th {\n",
       "        vertical-align: top;\n",
       "    }\n",
       "\n",
       "    .dataframe thead th {\n",
       "        text-align: right;\n",
       "    }\n",
       "</style>\n",
       "<table border=\"1\" class=\"dataframe\">\n",
       "  <thead>\n",
       "    <tr style=\"text-align: right;\">\n",
       "      <th></th>\n",
       "      <th>Most popular reason for not voting</th>\n",
       "    </tr>\n",
       "    <tr>\n",
       "      <th>EDUSIMPLE</th>\n",
       "      <th></th>\n",
       "    </tr>\n",
       "  </thead>\n",
       "  <tbody>\n",
       "    <tr>\n",
       "      <td>0</td>\n",
       "      <td>4</td>\n",
       "    </tr>\n",
       "    <tr>\n",
       "      <td>1</td>\n",
       "      <td>6</td>\n",
       "    </tr>\n",
       "    <tr>\n",
       "      <td>2</td>\n",
       "      <td>6</td>\n",
       "    </tr>\n",
       "    <tr>\n",
       "      <td>3</td>\n",
       "      <td>6</td>\n",
       "    </tr>\n",
       "    <tr>\n",
       "      <td>4</td>\n",
       "      <td>6</td>\n",
       "    </tr>\n",
       "    <tr>\n",
       "      <td>5</td>\n",
       "      <td>6</td>\n",
       "    </tr>\n",
       "    <tr>\n",
       "      <td>6</td>\n",
       "      <td>6</td>\n",
       "    </tr>\n",
       "    <tr>\n",
       "      <td>7</td>\n",
       "      <td>6</td>\n",
       "    </tr>\n",
       "  </tbody>\n",
       "</table>\n",
       "</div>"
      ],
      "text/plain": [
       "           Most popular reason for not voting\n",
       "EDUSIMPLE                                    \n",
       "0                                           4\n",
       "1                                           6\n",
       "2                                           6\n",
       "3                                           6\n",
       "4                                           6\n",
       "5                                           6\n",
       "6                                           6\n",
       "7                                           6"
      ]
     },
     "execution_count": 42,
     "metadata": {},
     "output_type": "execute_result"
    }
   ],
   "source": [
    "whyNotVoteBasedOnEdu_table = whyNotVoteBasedOnEdu[[\"EDUSIMPLE\", \"VOYNOTREG\"]].groupby([\"EDUSIMPLE\"]).agg(pd.Series.mode)\n",
    "whyNotVoteBasedOnEdu_table.rename(columns={'VOYNOTREG': \"Most popular reason for not voting\"}, inplace=True)\n",
    "whyNotVoteBasedOnEdu_table"
   ]
  },
  {
   "cell_type": "code",
   "execution_count": 43,
   "metadata": {},
   "outputs": [
    {
     "ename": "SyntaxError",
     "evalue": "invalid syntax (<ipython-input-43-d8c9dec48a17>, line 1)",
     "output_type": "error",
     "traceback": [
      "\u001b[0;36m  File \u001b[0;32m\"<ipython-input-43-d8c9dec48a17>\"\u001b[0;36m, line \u001b[0;32m1\u001b[0m\n\u001b[0;31m    The most frequent reason is\u001b[0m\n\u001b[0m           ^\u001b[0m\n\u001b[0;31mSyntaxError\u001b[0m\u001b[0;31m:\u001b[0m invalid syntax\n"
     ]
    }
   ],
   "source": [
    "The most frequent reason is "
   ]
  },
  {
   "cell_type": "markdown",
   "metadata": {},
   "source": [
    "# Part A: Voter Registration Analysis"
   ]
  },
  {
   "cell_type": "markdown",
   "metadata": {},
   "source": [
    "So far, we've analyzed our data to draw a big picture of who voted at the polls using demographics such as age, race, ethnicity, and education. Next, we can start to form a big picture of whom actually registers, and doesn't register to vote, and why across key demographics."
   ]
  },
  {
   "cell_type": "code",
   "execution_count": null,
   "metadata": {},
   "outputs": [],
   "source": [
    "df[\"VOYNOTREG\"].value_counts()"
   ]
  },
  {
   "cell_type": "markdown",
   "metadata": {},
   "source": [
    "First, we will drop the 99 (not in universe) because these individuals did register and vote. We are interested in seeing who the people were who did not vote, and why."
   ]
  },
  {
   "cell_type": "code",
   "execution_count": null,
   "metadata": {},
   "outputs": [],
   "source": [
    "df = df[df[\"VOYNOTREG\"] != 99]"
   ]
  },
  {
   "cell_type": "markdown",
   "metadata": {},
   "source": [
    "# One thing we can look it is, for each age group, what is the most popular reason for not voting ?¶"
   ]
  },
  {
   "cell_type": "code",
   "execution_count": null,
   "metadata": {
    "scrolled": true
   },
   "outputs": [],
   "source": [
    "whyNotVoteBasedOnAge = df[[\"Age Band\", \"VOYNOTREG\"]].groupby(\"Age Band\").agg(pd.Series.mode)\n",
    "whyNotVoteBasedOnAge.rename(columns={'VOYNOTREG': \"Most popular reason for not voting\"}, inplace=True)\n",
    "whyNotVoteBasedOnAge"
   ]
  },
  {
   "cell_type": "markdown",
   "metadata": {},
   "source": [
    "6 = not interested in politics or the election is the most frequent reason -->"
   ]
  },
  {
   "cell_type": "code",
   "execution_count": null,
   "metadata": {},
   "outputs": [],
   "source": [
    "whyNotVoteBasedOnAge.replace([6], \"Not interested in politics or the election\", inplace=True)\n",
    "whyNotVoteBasedOnAge"
   ]
  },
  {
   "cell_type": "markdown",
   "metadata": {},
   "source": [
    "The most popular reason for not registering to vote across all age bands was Not being interested in the election or politics. So, the reason for not registering to vote did not vary across ages."
   ]
  },
  {
   "cell_type": "markdown",
   "metadata": {},
   "source": [
    "# Next, what is the most popular reason that voters did not register vary across sex ?"
   ]
  },
  {
   "cell_type": "code",
   "execution_count": null,
   "metadata": {},
   "outputs": [],
   "source": [
    "df.loc[df.SEX == 1, \"SEX\"] = \"Male\"\n",
    "df.loc[df.SEX == 2, \"SEX\"] = \"Female\""
   ]
  },
  {
   "cell_type": "code",
   "execution_count": null,
   "metadata": {},
   "outputs": [],
   "source": [
    "whyNotVoteBasedOnSex = df[[\"SEX\", \"VOYNOTREG\"]].groupby(\"SEX\").agg(pd.Series.mode)\n",
    "whyNotVoteBasedOnSex.rename(columns={'VOYNOTREG': \"Most popular reason for not voting\"}, inplace=True)\n",
    "whyNotVoteBasedOnSex"
   ]
  },
  {
   "cell_type": "markdown",
   "metadata": {},
   "source": [
    "6 is also the most frequent reason for not voting across the genders "
   ]
  },
  {
   "cell_type": "code",
   "execution_count": null,
   "metadata": {},
   "outputs": [],
   "source": [
    "whyNotVoteBasedOnSex.replace([6], \"Not interested in politics or the election\", inplace=True)\n",
    "whyNotVoteBasedOnSex"
   ]
  },
  {
   "cell_type": "markdown",
   "metadata": {},
   "source": [
    "The most popular reason for not registering to vote did not vary across genders. Both most males and most females said they did not register to vote because they were not interested in the election or politics."
   ]
  },
  {
   "cell_type": "markdown",
   "metadata": {},
   "source": [
    "# Finally, looking at the most popular reason for why people did not register to vote across RACE: "
   ]
  },
  {
   "cell_type": "code",
   "execution_count": null,
   "metadata": {},
   "outputs": [],
   "source": [
    "whyNotVoteBasedOnRace = df[[\"RACESIMPLE\", \"VOYNOTREG\"]].groupby(\"RACESIMPLE\").agg(pd.Series.mode)\n",
    "whyNotVoteBasedOnRace.rename(columns={'VOYNOTREG': \"Most popular reason for not voting\"}, inplace=True)\n",
    "whyNotVoteBasedOnRace"
   ]
  },
  {
   "cell_type": "markdown",
   "metadata": {},
   "source": [
    "The most popular reason for not registering to vote did not vary across races. All said they did not register to vote because they were not interested in the election or politics."
   ]
  },
  {
   "cell_type": "code",
   "execution_count": null,
   "metadata": {},
   "outputs": [],
   "source": [
    "whyNotVoteBasedOnRace.replace([6], \"Not interested in politics or the election\", inplace=True)\n",
    "whyNotVoteBasedOnSex"
   ]
  },
  {
   "cell_type": "code",
   "execution_count": null,
   "metadata": {},
   "outputs": [],
   "source": [
    "# have to label all graphs x,y and title \n",
    "# part b add: Is there a strong relationship between voter registration and voter turnout?\n",
    "#How do voting registration patterns vary by state? Which states had the highest percentage of those surveyed who did not vote?"
   ]
  },
  {
   "cell_type": "markdown",
   "metadata": {},
   "source": [
    "CONC: reasons why people are not registering to vote did not vary across the different factors - they all are not interested in politics or the elciton "
   ]
  },
  {
   "cell_type": "code",
   "execution_count": null,
   "metadata": {},
   "outputs": [],
   "source": []
  }
 ],
 "metadata": {
  "kernelspec": {
   "display_name": "Python 3",
   "language": "python",
   "name": "python3"
  },
  "language_info": {
   "codemirror_mode": {
    "name": "ipython",
    "version": 3
   },
   "file_extension": ".py",
   "mimetype": "text/x-python",
   "name": "python",
   "nbconvert_exporter": "python",
   "pygments_lexer": "ipython3",
   "version": "3.8.5"
  }
 },
 "nbformat": 4,
 "nbformat_minor": 4
}
